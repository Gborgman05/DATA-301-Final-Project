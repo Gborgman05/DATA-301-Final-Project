{
  "nbformat": 4,
  "nbformat_minor": 0,
  "metadata": {
    "kernelspec": {
      "display_name": "Python 3",
      "language": "python",
      "name": "python3"
    },
    "language_info": {
      "codemirror_mode": {
        "name": "ipython",
        "version": 3
      },
      "file_extension": ".py",
      "mimetype": "text/x-python",
      "name": "python",
      "nbconvert_exporter": "python",
      "pygments_lexer": "ipython3",
      "version": "3.6.8"
    },
    "colab": {
      "name": "Final Project - with sections",
      "provenance": [],
      "collapsed_sections": [
        "Lq83i0bylHUt",
        "kJqf71mWx3W-",
        "geAXPTmoyDLo",
        "xp41F5K-yJna",
        "ukyTfZqwyVJP",
        "5kT6Z0tHyjnZ",
        "fBa0u1ZVyqQQ",
        "CG3tbDczyxFW"
      ],
      "toc_visible": true,
      "include_colab_link": true
    }
  },
  "cells": [
    {
      "cell_type": "markdown",
      "metadata": {
        "id": "view-in-github",
        "colab_type": "text"
      },
      "source": [
        "<a href=\"https://colab.research.google.com/github/Gborgman05/DATA-301-Final-Project/blob/main/Final_Project_with_sections.ipynb\" target=\"_parent\"><img src=\"https://colab.research.google.com/assets/colab-badge.svg\" alt=\"Open In Colab\"/></a>"
      ]
    },
    {
      "cell_type": "markdown",
      "metadata": {
        "id": "ae0BvS00kZ-x"
      },
      "source": [
        "## Imports "
      ]
    },
    {
      "cell_type": "code",
      "metadata": {
        "id": "j-F4Gk1dPAkC"
      },
      "source": [
        "import pandas as pd\n",
        "import requests\n",
        "import numpy as np\n",
        "import random\n",
        "from pandas.io.json import json_normalize\n",
        "from sklearn.pipeline import make_pipeline\n",
        "from sklearn.preprocessing import StandardScaler\n",
        "from sklearn.neighbors import KNeighborsRegressor\n",
        "from sklearn.neighbors import KNeighborsClassifier\n",
        "from sklearn.linear_model import LinearRegression\n",
        "from sklearn.compose import make_column_transformer\n",
        "from sklearn.preprocessing import OneHotEncoder\n",
        "from sklearn.metrics import r2_score\n",
        "import altair as alt\n",
        "from sklearn.metrics import accuracy_score\n",
        "from sklearn.metrics import precision_score, recall_score\n",
        "from sklearn.metrics import precision_recall_curve\n",
        "from sklearn.metrics import f1_score\n",
        "from sklearn.model_selection import GridSearchCV\n",
        "from sklearn.model_selection import cross_val_score\n"
      ],
      "execution_count": null,
      "outputs": []
    },
    {
      "cell_type": "markdown",
      "metadata": {
        "id": "kVSvgO-skCl1"
      },
      "source": [
        "# Data Collection and Cleaning "
      ]
    },
    {
      "cell_type": "code",
      "metadata": {
        "colab": {
          "base_uri": "https://localhost:8080/",
          "height": 377
        },
        "id": "fPv-tw6EP_nS",
        "outputId": "51f2ae38-32d9-43cb-c41b-e5f8588b846c"
      },
      "source": [
        "# 1st data set we use\r\n",
        "df_schools = pd.read_csv(\"https://raw.githubusercontent.com/Gborgman05/data/main/College_Data.csv\")\r\n",
        "df_schools.head()"
      ],
      "execution_count": null,
      "outputs": [
        {
          "output_type": "execute_result",
          "data": {
            "text/html": [
              "<div>\n",
              "<style scoped>\n",
              "    .dataframe tbody tr th:only-of-type {\n",
              "        vertical-align: middle;\n",
              "    }\n",
              "\n",
              "    .dataframe tbody tr th {\n",
              "        vertical-align: top;\n",
              "    }\n",
              "\n",
              "    .dataframe thead th {\n",
              "        text-align: right;\n",
              "    }\n",
              "</style>\n",
              "<table border=\"1\" class=\"dataframe\">\n",
              "  <thead>\n",
              "    <tr style=\"text-align: right;\">\n",
              "      <th></th>\n",
              "      <th>Unnamed: 0</th>\n",
              "      <th>Private</th>\n",
              "      <th>Apps</th>\n",
              "      <th>Accept</th>\n",
              "      <th>Enroll</th>\n",
              "      <th>Top10perc</th>\n",
              "      <th>Top25perc</th>\n",
              "      <th>F.Undergrad</th>\n",
              "      <th>P.Undergrad</th>\n",
              "      <th>Outstate</th>\n",
              "      <th>Room.Board</th>\n",
              "      <th>Books</th>\n",
              "      <th>Personal</th>\n",
              "      <th>PhD</th>\n",
              "      <th>Terminal</th>\n",
              "      <th>S.F.Ratio</th>\n",
              "      <th>perc.alumni</th>\n",
              "      <th>Expend</th>\n",
              "      <th>Grad.Rate</th>\n",
              "    </tr>\n",
              "  </thead>\n",
              "  <tbody>\n",
              "    <tr>\n",
              "      <th>0</th>\n",
              "      <td>Abilene Christian University</td>\n",
              "      <td>Yes</td>\n",
              "      <td>1660</td>\n",
              "      <td>1232</td>\n",
              "      <td>721</td>\n",
              "      <td>23</td>\n",
              "      <td>52</td>\n",
              "      <td>2885</td>\n",
              "      <td>537</td>\n",
              "      <td>7440</td>\n",
              "      <td>3300</td>\n",
              "      <td>450</td>\n",
              "      <td>2200</td>\n",
              "      <td>70</td>\n",
              "      <td>78</td>\n",
              "      <td>18.1</td>\n",
              "      <td>12</td>\n",
              "      <td>7041</td>\n",
              "      <td>60</td>\n",
              "    </tr>\n",
              "    <tr>\n",
              "      <th>1</th>\n",
              "      <td>Adelphi University</td>\n",
              "      <td>Yes</td>\n",
              "      <td>2186</td>\n",
              "      <td>1924</td>\n",
              "      <td>512</td>\n",
              "      <td>16</td>\n",
              "      <td>29</td>\n",
              "      <td>2683</td>\n",
              "      <td>1227</td>\n",
              "      <td>12280</td>\n",
              "      <td>6450</td>\n",
              "      <td>750</td>\n",
              "      <td>1500</td>\n",
              "      <td>29</td>\n",
              "      <td>30</td>\n",
              "      <td>12.2</td>\n",
              "      <td>16</td>\n",
              "      <td>10527</td>\n",
              "      <td>56</td>\n",
              "    </tr>\n",
              "    <tr>\n",
              "      <th>2</th>\n",
              "      <td>Adrian College</td>\n",
              "      <td>Yes</td>\n",
              "      <td>1428</td>\n",
              "      <td>1097</td>\n",
              "      <td>336</td>\n",
              "      <td>22</td>\n",
              "      <td>50</td>\n",
              "      <td>1036</td>\n",
              "      <td>99</td>\n",
              "      <td>11250</td>\n",
              "      <td>3750</td>\n",
              "      <td>400</td>\n",
              "      <td>1165</td>\n",
              "      <td>53</td>\n",
              "      <td>66</td>\n",
              "      <td>12.9</td>\n",
              "      <td>30</td>\n",
              "      <td>8735</td>\n",
              "      <td>54</td>\n",
              "    </tr>\n",
              "    <tr>\n",
              "      <th>3</th>\n",
              "      <td>Agnes Scott College</td>\n",
              "      <td>Yes</td>\n",
              "      <td>417</td>\n",
              "      <td>349</td>\n",
              "      <td>137</td>\n",
              "      <td>60</td>\n",
              "      <td>89</td>\n",
              "      <td>510</td>\n",
              "      <td>63</td>\n",
              "      <td>12960</td>\n",
              "      <td>5450</td>\n",
              "      <td>450</td>\n",
              "      <td>875</td>\n",
              "      <td>92</td>\n",
              "      <td>97</td>\n",
              "      <td>7.7</td>\n",
              "      <td>37</td>\n",
              "      <td>19016</td>\n",
              "      <td>59</td>\n",
              "    </tr>\n",
              "    <tr>\n",
              "      <th>4</th>\n",
              "      <td>Alaska Pacific University</td>\n",
              "      <td>Yes</td>\n",
              "      <td>193</td>\n",
              "      <td>146</td>\n",
              "      <td>55</td>\n",
              "      <td>16</td>\n",
              "      <td>44</td>\n",
              "      <td>249</td>\n",
              "      <td>869</td>\n",
              "      <td>7560</td>\n",
              "      <td>4120</td>\n",
              "      <td>800</td>\n",
              "      <td>1500</td>\n",
              "      <td>76</td>\n",
              "      <td>72</td>\n",
              "      <td>11.9</td>\n",
              "      <td>2</td>\n",
              "      <td>10922</td>\n",
              "      <td>15</td>\n",
              "    </tr>\n",
              "  </tbody>\n",
              "</table>\n",
              "</div>"
            ],
            "text/plain": [
              "                     Unnamed: 0 Private  Apps  ...  perc.alumni  Expend  Grad.Rate\n",
              "0  Abilene Christian University     Yes  1660  ...           12    7041         60\n",
              "1            Adelphi University     Yes  2186  ...           16   10527         56\n",
              "2                Adrian College     Yes  1428  ...           30    8735         54\n",
              "3           Agnes Scott College     Yes   417  ...           37   19016         59\n",
              "4     Alaska Pacific University     Yes   193  ...            2   10922         15\n",
              "\n",
              "[5 rows x 19 columns]"
            ]
          },
          "metadata": {
            "tags": []
          },
          "execution_count": 2
        }
      ]
    },
    {
      "cell_type": "code",
      "metadata": {
        "id": "CmdM6SfYQsIR"
      },
      "source": [
        "json_data = requests.get(\"https://raw.githubusercontent.com/Gborgman05/data/main/schoolInfo.json\")\r\n",
        "json_data = json_data.json()"
      ],
      "execution_count": null,
      "outputs": []
    },
    {
      "cell_type": "code",
      "metadata": {
        "colab": {
          "base_uri": "https://localhost:8080/"
        },
        "id": "6AXkqZM3ReCY",
        "outputId": "37d14438-1bfe-49d5-87c4-0d8737d97509"
      },
      "source": [
        "print(len(json_data))\r\n",
        "json_data[0].keys()"
      ],
      "execution_count": null,
      "outputs": [
        {
          "output_type": "stream",
          "text": [
            "311\n"
          ],
          "name": "stdout"
        },
        {
          "output_type": "execute_result",
          "data": {
            "text/plain": [
              "dict_keys(['rankingNoteText', 'nonResponderText', 'nonResponder', 'act-avg', 'primaryPhoto', 'primaryPhotoThumb', 'sat-avg', 'enrollment', 'city', 'sortName', 'zip', 'rankingNoteCharacter', 'acceptance-rate', 'rankingDisplayScore', 'percent-receiving-aid', 'cost-after-aid', 'state', 'rankingSortRank', 'hs-gpa-avg', 'urlName', 'rankingDisplayName', 'rankingDisplayRank', 'ranking', 'xwalkId', 'rankingIsTied', 'isPublic', 'businessRepScore', 'tuition', 'engineeringRepScore', 'displayName', 'schoolType', 'region', 'aliasNames', 'rankingType', 'overallRank', 'institutionalControl', 'rankingMaxPossibleScore', 'rankingRankStatus', 'primaryKey'])"
            ]
          },
          "metadata": {
            "tags": []
          },
          "execution_count": 4
        }
      ]
    },
    {
      "cell_type": "code",
      "metadata": {
        "colab": {
          "base_uri": "https://localhost:8080/",
          "height": 394
        },
        "id": "wGH0cZqiRxav",
        "outputId": "a14dccec-270e-465d-f1f0-73c21a848a40"
      },
      "source": [
        "# 2nd data set we use\r\n",
        "df_priv_public = json_normalize(json_data)\r\n",
        "df_priv_public.head()"
      ],
      "execution_count": null,
      "outputs": [
        {
          "output_type": "stream",
          "text": [
            "/usr/local/lib/python3.7/dist-packages/ipykernel_launcher.py:2: FutureWarning: pandas.io.json.json_normalize is deprecated, use pandas.json_normalize instead\n",
            "  \n"
          ],
          "name": "stderr"
        },
        {
          "output_type": "execute_result",
          "data": {
            "text/html": [
              "<div>\n",
              "<style scoped>\n",
              "    .dataframe tbody tr th:only-of-type {\n",
              "        vertical-align: middle;\n",
              "    }\n",
              "\n",
              "    .dataframe tbody tr th {\n",
              "        vertical-align: top;\n",
              "    }\n",
              "\n",
              "    .dataframe thead th {\n",
              "        text-align: right;\n",
              "    }\n",
              "</style>\n",
              "<table border=\"1\" class=\"dataframe\">\n",
              "  <thead>\n",
              "    <tr style=\"text-align: right;\">\n",
              "      <th></th>\n",
              "      <th>rankingNoteText</th>\n",
              "      <th>nonResponderText</th>\n",
              "      <th>nonResponder</th>\n",
              "      <th>act-avg</th>\n",
              "      <th>primaryPhoto</th>\n",
              "      <th>primaryPhotoThumb</th>\n",
              "      <th>sat-avg</th>\n",
              "      <th>enrollment</th>\n",
              "      <th>city</th>\n",
              "      <th>sortName</th>\n",
              "      <th>zip</th>\n",
              "      <th>rankingNoteCharacter</th>\n",
              "      <th>acceptance-rate</th>\n",
              "      <th>rankingDisplayScore</th>\n",
              "      <th>percent-receiving-aid</th>\n",
              "      <th>cost-after-aid</th>\n",
              "      <th>state</th>\n",
              "      <th>rankingSortRank</th>\n",
              "      <th>hs-gpa-avg</th>\n",
              "      <th>urlName</th>\n",
              "      <th>rankingDisplayName</th>\n",
              "      <th>rankingDisplayRank</th>\n",
              "      <th>ranking</th>\n",
              "      <th>xwalkId</th>\n",
              "      <th>rankingIsTied</th>\n",
              "      <th>isPublic</th>\n",
              "      <th>businessRepScore</th>\n",
              "      <th>tuition</th>\n",
              "      <th>engineeringRepScore</th>\n",
              "      <th>displayName</th>\n",
              "      <th>schoolType</th>\n",
              "      <th>region</th>\n",
              "      <th>aliasNames</th>\n",
              "      <th>rankingType</th>\n",
              "      <th>overallRank</th>\n",
              "      <th>institutionalControl</th>\n",
              "      <th>rankingMaxPossibleScore</th>\n",
              "      <th>rankingRankStatus</th>\n",
              "      <th>primaryKey</th>\n",
              "    </tr>\n",
              "  </thead>\n",
              "  <tbody>\n",
              "    <tr>\n",
              "      <th>0</th>\n",
              "      <td>None</td>\n",
              "      <td>None</td>\n",
              "      <td>False</td>\n",
              "      <td>32.0</td>\n",
              "      <td>https://www.usnews.com/img/college-photo_31291...</td>\n",
              "      <td>https://www.usnews.com/img/college-photo_31291...</td>\n",
              "      <td>1400.0</td>\n",
              "      <td>5400.0</td>\n",
              "      <td>Princeton</td>\n",
              "      <td>princetonuniversity</td>\n",
              "      <td>08544</td>\n",
              "      <td>None</td>\n",
              "      <td>7.0</td>\n",
              "      <td>100</td>\n",
              "      <td>60.0</td>\n",
              "      <td>16793.0</td>\n",
              "      <td>NJ</td>\n",
              "      <td>1</td>\n",
              "      <td>3.9</td>\n",
              "      <td>princeton-university</td>\n",
              "      <td>National Universities</td>\n",
              "      <td>#1</td>\n",
              "      <td>overall</td>\n",
              "      <td>186131</td>\n",
              "      <td>False</td>\n",
              "      <td>True</td>\n",
              "      <td>NaN</td>\n",
              "      <td>47140</td>\n",
              "      <td>4.1</td>\n",
              "      <td>Princeton University</td>\n",
              "      <td>national-universities</td>\n",
              "      <td>None</td>\n",
              "      <td>None</td>\n",
              "      <td>national-universities</td>\n",
              "      <td>1</td>\n",
              "      <td>private</td>\n",
              "      <td>None</td>\n",
              "      <td>ranked</td>\n",
              "      <td>2627</td>\n",
              "    </tr>\n",
              "    <tr>\n",
              "      <th>1</th>\n",
              "      <td>None</td>\n",
              "      <td>None</td>\n",
              "      <td>False</td>\n",
              "      <td>32.0</td>\n",
              "      <td>https://www.usnews.com/img/college-photo_8866.jpg</td>\n",
              "      <td>https://www.usnews.com/img/college-photo_8866_...</td>\n",
              "      <td>1430.0</td>\n",
              "      <td>6710.0</td>\n",
              "      <td>Cambridge</td>\n",
              "      <td>harvarduniversity</td>\n",
              "      <td>02138</td>\n",
              "      <td>None</td>\n",
              "      <td>5.0</td>\n",
              "      <td>98</td>\n",
              "      <td>55.0</td>\n",
              "      <td>16338.0</td>\n",
              "      <td>MA</td>\n",
              "      <td>2</td>\n",
              "      <td>4.0</td>\n",
              "      <td>harvard-university</td>\n",
              "      <td>National Universities</td>\n",
              "      <td>#2</td>\n",
              "      <td>overall</td>\n",
              "      <td>166027</td>\n",
              "      <td>False</td>\n",
              "      <td>True</td>\n",
              "      <td>NaN</td>\n",
              "      <td>48949</td>\n",
              "      <td>3.6</td>\n",
              "      <td>Harvard University</td>\n",
              "      <td>national-universities</td>\n",
              "      <td>None</td>\n",
              "      <td>None</td>\n",
              "      <td>national-universities</td>\n",
              "      <td>2</td>\n",
              "      <td>private</td>\n",
              "      <td>None</td>\n",
              "      <td>ranked</td>\n",
              "      <td>2155</td>\n",
              "    </tr>\n",
              "    <tr>\n",
              "      <th>2</th>\n",
              "      <td>None</td>\n",
              "      <td>None</td>\n",
              "      <td>False</td>\n",
              "      <td>32.0</td>\n",
              "      <td>https://www.usnews.com/dims4/USNEWS/5b128f0/17...</td>\n",
              "      <td>https://www.usnews.com/dims4/USNEWS/196469f/17...</td>\n",
              "      <td>1450.0</td>\n",
              "      <td>5941.0</td>\n",
              "      <td>Chicago</td>\n",
              "      <td>universityofchicago</td>\n",
              "      <td>60637</td>\n",
              "      <td>None</td>\n",
              "      <td>8.0</td>\n",
              "      <td>96</td>\n",
              "      <td>42.0</td>\n",
              "      <td>27767.0</td>\n",
              "      <td>IL</td>\n",
              "      <td>3</td>\n",
              "      <td>4.0</td>\n",
              "      <td>university-of-chicago</td>\n",
              "      <td>National Universities</td>\n",
              "      <td>#3</td>\n",
              "      <td>overall</td>\n",
              "      <td>144050</td>\n",
              "      <td>True</td>\n",
              "      <td>True</td>\n",
              "      <td>NaN</td>\n",
              "      <td>54825</td>\n",
              "      <td>NaN</td>\n",
              "      <td>University of Chicago</td>\n",
              "      <td>national-universities</td>\n",
              "      <td>None</td>\n",
              "      <td>UChicago</td>\n",
              "      <td>national-universities</td>\n",
              "      <td>3</td>\n",
              "      <td>private</td>\n",
              "      <td>None</td>\n",
              "      <td>ranked</td>\n",
              "      <td>1774</td>\n",
              "    </tr>\n",
              "    <tr>\n",
              "      <th>3</th>\n",
              "      <td>None</td>\n",
              "      <td>None</td>\n",
              "      <td>False</td>\n",
              "      <td>32.0</td>\n",
              "      <td>https://www.usnews.com/dims4/USNEWS/60348dd/17...</td>\n",
              "      <td>https://www.usnews.com/dims4/USNEWS/1ca230f/17...</td>\n",
              "      <td>1420.0</td>\n",
              "      <td>5472.0</td>\n",
              "      <td>New Haven</td>\n",
              "      <td>yaleuniversity</td>\n",
              "      <td>06520</td>\n",
              "      <td>None</td>\n",
              "      <td>6.0</td>\n",
              "      <td>96</td>\n",
              "      <td>50.0</td>\n",
              "      <td>18385.0</td>\n",
              "      <td>CT</td>\n",
              "      <td>3</td>\n",
              "      <td>NaN</td>\n",
              "      <td>yale-university</td>\n",
              "      <td>National Universities</td>\n",
              "      <td>#3</td>\n",
              "      <td>overall</td>\n",
              "      <td>130794</td>\n",
              "      <td>True</td>\n",
              "      <td>True</td>\n",
              "      <td>NaN</td>\n",
              "      <td>51400</td>\n",
              "      <td>3.4</td>\n",
              "      <td>Yale University</td>\n",
              "      <td>national-universities</td>\n",
              "      <td>None</td>\n",
              "      <td>None</td>\n",
              "      <td>national-universities</td>\n",
              "      <td>3</td>\n",
              "      <td>private</td>\n",
              "      <td>None</td>\n",
              "      <td>ranked</td>\n",
              "      <td>1426</td>\n",
              "    </tr>\n",
              "    <tr>\n",
              "      <th>4</th>\n",
              "      <td>None</td>\n",
              "      <td>None</td>\n",
              "      <td>False</td>\n",
              "      <td>32.0</td>\n",
              "      <td>https://www.usnews.com/img/college-photo_19002...</td>\n",
              "      <td>https://www.usnews.com/img/college-photo_19002...</td>\n",
              "      <td>1430.0</td>\n",
              "      <td>6113.0</td>\n",
              "      <td>New York</td>\n",
              "      <td>columbiauniversity</td>\n",
              "      <td>10027</td>\n",
              "      <td>None</td>\n",
              "      <td>6.0</td>\n",
              "      <td>95</td>\n",
              "      <td>48.0</td>\n",
              "      <td>21041.0</td>\n",
              "      <td>NY</td>\n",
              "      <td>5</td>\n",
              "      <td>NaN</td>\n",
              "      <td>columbia-university</td>\n",
              "      <td>National Universities</td>\n",
              "      <td>#5</td>\n",
              "      <td>overall</td>\n",
              "      <td>190150</td>\n",
              "      <td>True</td>\n",
              "      <td>True</td>\n",
              "      <td>NaN</td>\n",
              "      <td>57208</td>\n",
              "      <td>3.8</td>\n",
              "      <td>Columbia University</td>\n",
              "      <td>national-universities</td>\n",
              "      <td>None</td>\n",
              "      <td>None</td>\n",
              "      <td>national-universities</td>\n",
              "      <td>5</td>\n",
              "      <td>private</td>\n",
              "      <td>None</td>\n",
              "      <td>ranked</td>\n",
              "      <td>2707</td>\n",
              "    </tr>\n",
              "  </tbody>\n",
              "</table>\n",
              "</div>"
            ],
            "text/plain": [
              "  rankingNoteText nonResponderText  ...  rankingRankStatus  primaryKey\n",
              "0            None             None  ...             ranked        2627\n",
              "1            None             None  ...             ranked        2155\n",
              "2            None             None  ...             ranked        1774\n",
              "3            None             None  ...             ranked        1426\n",
              "4            None             None  ...             ranked        2707\n",
              "\n",
              "[5 rows x 39 columns]"
            ]
          },
          "metadata": {
            "tags": []
          },
          "execution_count": 5
        }
      ]
    },
    {
      "cell_type": "code",
      "metadata": {
        "colab": {
          "base_uri": "https://localhost:8080/",
          "height": 360
        },
        "id": "aeGkkZMSSec9",
        "outputId": "eb6964f9-084c-46e3-ffb9-227892bcc692"
      },
      "source": [
        "# final full data set\r\n",
        "df_full = df_priv_public.merge(df_schools, left_on=\"displayName\", right_on=\"Unnamed: 0\")\r\n",
        "df_full.head()"
      ],
      "execution_count": null,
      "outputs": [
        {
          "output_type": "execute_result",
          "data": {
            "text/html": [
              "<div>\n",
              "<style scoped>\n",
              "    .dataframe tbody tr th:only-of-type {\n",
              "        vertical-align: middle;\n",
              "    }\n",
              "\n",
              "    .dataframe tbody tr th {\n",
              "        vertical-align: top;\n",
              "    }\n",
              "\n",
              "    .dataframe thead th {\n",
              "        text-align: right;\n",
              "    }\n",
              "</style>\n",
              "<table border=\"1\" class=\"dataframe\">\n",
              "  <thead>\n",
              "    <tr style=\"text-align: right;\">\n",
              "      <th></th>\n",
              "      <th>rankingNoteText</th>\n",
              "      <th>nonResponderText</th>\n",
              "      <th>nonResponder</th>\n",
              "      <th>act-avg</th>\n",
              "      <th>primaryPhoto</th>\n",
              "      <th>primaryPhotoThumb</th>\n",
              "      <th>sat-avg</th>\n",
              "      <th>enrollment</th>\n",
              "      <th>city</th>\n",
              "      <th>sortName</th>\n",
              "      <th>zip</th>\n",
              "      <th>rankingNoteCharacter</th>\n",
              "      <th>acceptance-rate</th>\n",
              "      <th>rankingDisplayScore</th>\n",
              "      <th>percent-receiving-aid</th>\n",
              "      <th>cost-after-aid</th>\n",
              "      <th>state</th>\n",
              "      <th>rankingSortRank</th>\n",
              "      <th>hs-gpa-avg</th>\n",
              "      <th>urlName</th>\n",
              "      <th>rankingDisplayName</th>\n",
              "      <th>rankingDisplayRank</th>\n",
              "      <th>ranking</th>\n",
              "      <th>xwalkId</th>\n",
              "      <th>rankingIsTied</th>\n",
              "      <th>isPublic</th>\n",
              "      <th>businessRepScore</th>\n",
              "      <th>tuition</th>\n",
              "      <th>engineeringRepScore</th>\n",
              "      <th>displayName</th>\n",
              "      <th>schoolType</th>\n",
              "      <th>region</th>\n",
              "      <th>aliasNames</th>\n",
              "      <th>rankingType</th>\n",
              "      <th>overallRank</th>\n",
              "      <th>institutionalControl</th>\n",
              "      <th>rankingMaxPossibleScore</th>\n",
              "      <th>rankingRankStatus</th>\n",
              "      <th>primaryKey</th>\n",
              "      <th>Unnamed: 0</th>\n",
              "      <th>Private</th>\n",
              "      <th>Apps</th>\n",
              "      <th>Accept</th>\n",
              "      <th>Enroll</th>\n",
              "      <th>Top10perc</th>\n",
              "      <th>Top25perc</th>\n",
              "      <th>F.Undergrad</th>\n",
              "      <th>P.Undergrad</th>\n",
              "      <th>Outstate</th>\n",
              "      <th>Room.Board</th>\n",
              "      <th>Books</th>\n",
              "      <th>Personal</th>\n",
              "      <th>PhD</th>\n",
              "      <th>Terminal</th>\n",
              "      <th>S.F.Ratio</th>\n",
              "      <th>perc.alumni</th>\n",
              "      <th>Expend</th>\n",
              "      <th>Grad.Rate</th>\n",
              "    </tr>\n",
              "  </thead>\n",
              "  <tbody>\n",
              "    <tr>\n",
              "      <th>0</th>\n",
              "      <td>None</td>\n",
              "      <td>None</td>\n",
              "      <td>False</td>\n",
              "      <td>32.0</td>\n",
              "      <td>https://www.usnews.com/img/college-photo_31291...</td>\n",
              "      <td>https://www.usnews.com/img/college-photo_31291...</td>\n",
              "      <td>1400.0</td>\n",
              "      <td>5400.0</td>\n",
              "      <td>Princeton</td>\n",
              "      <td>princetonuniversity</td>\n",
              "      <td>08544</td>\n",
              "      <td>None</td>\n",
              "      <td>7.0</td>\n",
              "      <td>100</td>\n",
              "      <td>60.0</td>\n",
              "      <td>16793.0</td>\n",
              "      <td>NJ</td>\n",
              "      <td>1</td>\n",
              "      <td>3.9</td>\n",
              "      <td>princeton-university</td>\n",
              "      <td>National Universities</td>\n",
              "      <td>#1</td>\n",
              "      <td>overall</td>\n",
              "      <td>186131</td>\n",
              "      <td>False</td>\n",
              "      <td>True</td>\n",
              "      <td>NaN</td>\n",
              "      <td>47140</td>\n",
              "      <td>4.1</td>\n",
              "      <td>Princeton University</td>\n",
              "      <td>national-universities</td>\n",
              "      <td>None</td>\n",
              "      <td>None</td>\n",
              "      <td>national-universities</td>\n",
              "      <td>1</td>\n",
              "      <td>private</td>\n",
              "      <td>None</td>\n",
              "      <td>ranked</td>\n",
              "      <td>2627</td>\n",
              "      <td>Princeton University</td>\n",
              "      <td>Yes</td>\n",
              "      <td>13218</td>\n",
              "      <td>2042</td>\n",
              "      <td>1153</td>\n",
              "      <td>90</td>\n",
              "      <td>98</td>\n",
              "      <td>4540</td>\n",
              "      <td>146</td>\n",
              "      <td>19900</td>\n",
              "      <td>5910</td>\n",
              "      <td>675</td>\n",
              "      <td>1575</td>\n",
              "      <td>91</td>\n",
              "      <td>96</td>\n",
              "      <td>8.4</td>\n",
              "      <td>54</td>\n",
              "      <td>28320</td>\n",
              "      <td>99</td>\n",
              "    </tr>\n",
              "    <tr>\n",
              "      <th>1</th>\n",
              "      <td>None</td>\n",
              "      <td>None</td>\n",
              "      <td>False</td>\n",
              "      <td>32.0</td>\n",
              "      <td>https://www.usnews.com/img/college-photo_8866.jpg</td>\n",
              "      <td>https://www.usnews.com/img/college-photo_8866_...</td>\n",
              "      <td>1430.0</td>\n",
              "      <td>6710.0</td>\n",
              "      <td>Cambridge</td>\n",
              "      <td>harvarduniversity</td>\n",
              "      <td>02138</td>\n",
              "      <td>None</td>\n",
              "      <td>5.0</td>\n",
              "      <td>98</td>\n",
              "      <td>55.0</td>\n",
              "      <td>16338.0</td>\n",
              "      <td>MA</td>\n",
              "      <td>2</td>\n",
              "      <td>4.0</td>\n",
              "      <td>harvard-university</td>\n",
              "      <td>National Universities</td>\n",
              "      <td>#2</td>\n",
              "      <td>overall</td>\n",
              "      <td>166027</td>\n",
              "      <td>False</td>\n",
              "      <td>True</td>\n",
              "      <td>NaN</td>\n",
              "      <td>48949</td>\n",
              "      <td>3.6</td>\n",
              "      <td>Harvard University</td>\n",
              "      <td>national-universities</td>\n",
              "      <td>None</td>\n",
              "      <td>None</td>\n",
              "      <td>national-universities</td>\n",
              "      <td>2</td>\n",
              "      <td>private</td>\n",
              "      <td>None</td>\n",
              "      <td>ranked</td>\n",
              "      <td>2155</td>\n",
              "      <td>Harvard University</td>\n",
              "      <td>Yes</td>\n",
              "      <td>13865</td>\n",
              "      <td>2165</td>\n",
              "      <td>1606</td>\n",
              "      <td>90</td>\n",
              "      <td>100</td>\n",
              "      <td>6862</td>\n",
              "      <td>320</td>\n",
              "      <td>18485</td>\n",
              "      <td>6410</td>\n",
              "      <td>500</td>\n",
              "      <td>1920</td>\n",
              "      <td>97</td>\n",
              "      <td>97</td>\n",
              "      <td>9.9</td>\n",
              "      <td>52</td>\n",
              "      <td>37219</td>\n",
              "      <td>100</td>\n",
              "    </tr>\n",
              "    <tr>\n",
              "      <th>2</th>\n",
              "      <td>None</td>\n",
              "      <td>None</td>\n",
              "      <td>False</td>\n",
              "      <td>32.0</td>\n",
              "      <td>https://www.usnews.com/dims4/USNEWS/5b128f0/17...</td>\n",
              "      <td>https://www.usnews.com/dims4/USNEWS/196469f/17...</td>\n",
              "      <td>1450.0</td>\n",
              "      <td>5941.0</td>\n",
              "      <td>Chicago</td>\n",
              "      <td>universityofchicago</td>\n",
              "      <td>60637</td>\n",
              "      <td>None</td>\n",
              "      <td>8.0</td>\n",
              "      <td>96</td>\n",
              "      <td>42.0</td>\n",
              "      <td>27767.0</td>\n",
              "      <td>IL</td>\n",
              "      <td>3</td>\n",
              "      <td>4.0</td>\n",
              "      <td>university-of-chicago</td>\n",
              "      <td>National Universities</td>\n",
              "      <td>#3</td>\n",
              "      <td>overall</td>\n",
              "      <td>144050</td>\n",
              "      <td>True</td>\n",
              "      <td>True</td>\n",
              "      <td>NaN</td>\n",
              "      <td>54825</td>\n",
              "      <td>NaN</td>\n",
              "      <td>University of Chicago</td>\n",
              "      <td>national-universities</td>\n",
              "      <td>None</td>\n",
              "      <td>UChicago</td>\n",
              "      <td>national-universities</td>\n",
              "      <td>3</td>\n",
              "      <td>private</td>\n",
              "      <td>None</td>\n",
              "      <td>ranked</td>\n",
              "      <td>1774</td>\n",
              "      <td>University of Chicago</td>\n",
              "      <td>Yes</td>\n",
              "      <td>6348</td>\n",
              "      <td>2999</td>\n",
              "      <td>922</td>\n",
              "      <td>68</td>\n",
              "      <td>94</td>\n",
              "      <td>3340</td>\n",
              "      <td>39</td>\n",
              "      <td>18930</td>\n",
              "      <td>6380</td>\n",
              "      <td>500</td>\n",
              "      <td>1254</td>\n",
              "      <td>99</td>\n",
              "      <td>99</td>\n",
              "      <td>5.3</td>\n",
              "      <td>36</td>\n",
              "      <td>36854</td>\n",
              "      <td>90</td>\n",
              "    </tr>\n",
              "    <tr>\n",
              "      <th>3</th>\n",
              "      <td>None</td>\n",
              "      <td>None</td>\n",
              "      <td>False</td>\n",
              "      <td>32.0</td>\n",
              "      <td>https://www.usnews.com/dims4/USNEWS/60348dd/17...</td>\n",
              "      <td>https://www.usnews.com/dims4/USNEWS/1ca230f/17...</td>\n",
              "      <td>1420.0</td>\n",
              "      <td>5472.0</td>\n",
              "      <td>New Haven</td>\n",
              "      <td>yaleuniversity</td>\n",
              "      <td>06520</td>\n",
              "      <td>None</td>\n",
              "      <td>6.0</td>\n",
              "      <td>96</td>\n",
              "      <td>50.0</td>\n",
              "      <td>18385.0</td>\n",
              "      <td>CT</td>\n",
              "      <td>3</td>\n",
              "      <td>NaN</td>\n",
              "      <td>yale-university</td>\n",
              "      <td>National Universities</td>\n",
              "      <td>#3</td>\n",
              "      <td>overall</td>\n",
              "      <td>130794</td>\n",
              "      <td>True</td>\n",
              "      <td>True</td>\n",
              "      <td>NaN</td>\n",
              "      <td>51400</td>\n",
              "      <td>3.4</td>\n",
              "      <td>Yale University</td>\n",
              "      <td>national-universities</td>\n",
              "      <td>None</td>\n",
              "      <td>None</td>\n",
              "      <td>national-universities</td>\n",
              "      <td>3</td>\n",
              "      <td>private</td>\n",
              "      <td>None</td>\n",
              "      <td>ranked</td>\n",
              "      <td>1426</td>\n",
              "      <td>Yale University</td>\n",
              "      <td>Yes</td>\n",
              "      <td>10705</td>\n",
              "      <td>2453</td>\n",
              "      <td>1317</td>\n",
              "      <td>95</td>\n",
              "      <td>99</td>\n",
              "      <td>5217</td>\n",
              "      <td>83</td>\n",
              "      <td>19840</td>\n",
              "      <td>6510</td>\n",
              "      <td>630</td>\n",
              "      <td>2115</td>\n",
              "      <td>96</td>\n",
              "      <td>96</td>\n",
              "      <td>5.8</td>\n",
              "      <td>49</td>\n",
              "      <td>40386</td>\n",
              "      <td>99</td>\n",
              "    </tr>\n",
              "    <tr>\n",
              "      <th>4</th>\n",
              "      <td>None</td>\n",
              "      <td>None</td>\n",
              "      <td>False</td>\n",
              "      <td>32.0</td>\n",
              "      <td>https://www.usnews.com/img/college-photo_19002...</td>\n",
              "      <td>https://www.usnews.com/img/college-photo_19002...</td>\n",
              "      <td>1430.0</td>\n",
              "      <td>6113.0</td>\n",
              "      <td>New York</td>\n",
              "      <td>columbiauniversity</td>\n",
              "      <td>10027</td>\n",
              "      <td>None</td>\n",
              "      <td>6.0</td>\n",
              "      <td>95</td>\n",
              "      <td>48.0</td>\n",
              "      <td>21041.0</td>\n",
              "      <td>NY</td>\n",
              "      <td>5</td>\n",
              "      <td>NaN</td>\n",
              "      <td>columbia-university</td>\n",
              "      <td>National Universities</td>\n",
              "      <td>#5</td>\n",
              "      <td>overall</td>\n",
              "      <td>190150</td>\n",
              "      <td>True</td>\n",
              "      <td>True</td>\n",
              "      <td>NaN</td>\n",
              "      <td>57208</td>\n",
              "      <td>3.8</td>\n",
              "      <td>Columbia University</td>\n",
              "      <td>national-universities</td>\n",
              "      <td>None</td>\n",
              "      <td>None</td>\n",
              "      <td>national-universities</td>\n",
              "      <td>5</td>\n",
              "      <td>private</td>\n",
              "      <td>None</td>\n",
              "      <td>ranked</td>\n",
              "      <td>2707</td>\n",
              "      <td>Columbia University</td>\n",
              "      <td>Yes</td>\n",
              "      <td>6756</td>\n",
              "      <td>1930</td>\n",
              "      <td>871</td>\n",
              "      <td>78</td>\n",
              "      <td>96</td>\n",
              "      <td>3376</td>\n",
              "      <td>55</td>\n",
              "      <td>18624</td>\n",
              "      <td>6664</td>\n",
              "      <td>550</td>\n",
              "      <td>300</td>\n",
              "      <td>97</td>\n",
              "      <td>98</td>\n",
              "      <td>5.9</td>\n",
              "      <td>21</td>\n",
              "      <td>30639</td>\n",
              "      <td>99</td>\n",
              "    </tr>\n",
              "  </tbody>\n",
              "</table>\n",
              "</div>"
            ],
            "text/plain": [
              "  rankingNoteText nonResponderText  ...  Expend  Grad.Rate\n",
              "0            None             None  ...   28320         99\n",
              "1            None             None  ...   37219        100\n",
              "2            None             None  ...   36854         90\n",
              "3            None             None  ...   40386         99\n",
              "4            None             None  ...   30639         99\n",
              "\n",
              "[5 rows x 58 columns]"
            ]
          },
          "metadata": {
            "tags": []
          },
          "execution_count": 6
        }
      ]
    },
    {
      "cell_type": "code",
      "metadata": {
        "id": "xemT1RdlUd0S",
        "colab": {
          "base_uri": "https://localhost:8080/"
        },
        "outputId": "52aae959-8e24-4484-d702-d36ab8bcd930"
      },
      "source": [
        "# columns of data set\n",
        "df_full.columns"
      ],
      "execution_count": null,
      "outputs": [
        {
          "output_type": "execute_result",
          "data": {
            "text/plain": [
              "Index(['rankingNoteText', 'nonResponderText', 'nonResponder', 'act-avg',\n",
              "       'primaryPhoto', 'primaryPhotoThumb', 'sat-avg', 'enrollment', 'city',\n",
              "       'sortName', 'zip', 'rankingNoteCharacter', 'acceptance-rate',\n",
              "       'rankingDisplayScore', 'percent-receiving-aid', 'cost-after-aid',\n",
              "       'state', 'rankingSortRank', 'hs-gpa-avg', 'urlName',\n",
              "       'rankingDisplayName', 'rankingDisplayRank', 'ranking', 'xwalkId',\n",
              "       'rankingIsTied', 'isPublic', 'businessRepScore', 'tuition',\n",
              "       'engineeringRepScore', 'displayName', 'schoolType', 'region',\n",
              "       'aliasNames', 'rankingType', 'overallRank', 'institutionalControl',\n",
              "       'rankingMaxPossibleScore', 'rankingRankStatus', 'primaryKey',\n",
              "       'Unnamed: 0', 'Private', 'Apps', 'Accept', 'Enroll', 'Top10perc',\n",
              "       'Top25perc', 'F.Undergrad', 'P.Undergrad', 'Outstate', 'Room.Board',\n",
              "       'Books', 'Personal', 'PhD', 'Terminal', 'S.F.Ratio', 'perc.alumni',\n",
              "       'Expend', 'Grad.Rate'],\n",
              "      dtype='object')"
            ]
          },
          "metadata": {
            "tags": []
          },
          "execution_count": 7
        }
      ]
    },
    {
      "cell_type": "code",
      "metadata": {
        "id": "HDl0PYnHFcEI"
      },
      "source": [
        "# converts percentages to a decimal\r\n",
        "percentages = [\"Top10perc\", \"Top25perc\", \"perc.alumni\", \"Grad.Rate\", \"acceptance-rate\"]\r\n",
        "\r\n",
        "for column in percentages:\r\n",
        "    df_full[column] = df_full[column] / 100"
      ],
      "execution_count": null,
      "outputs": []
    },
    {
      "cell_type": "code",
      "metadata": {
        "id": "LkdkpGZZFi94"
      },
      "source": [
        "# converts the ranks which were read in as categorical because of the # sign, to numerical ranks for analysis\r\n",
        "# if the ranking is 231 or above we just assign that observation 231 \r\n",
        "df_full[\"rankingDisplayRank\"] = df_full[\"rankingDisplayRank\"].map(lambda a: int(a.replace(\"#\", \"\")) if \"300\" not in a else 231 )"
      ],
      "execution_count": null,
      "outputs": []
    },
    {
      "cell_type": "code",
      "metadata": {
        "id": "Y1fzphnN8k11"
      },
      "source": [
        "half_count = len(df_full) // 2\r\n",
        "df_train = df_full.copy()\r\n",
        "df_test = df_train.sample(half_count, random_state=112)\r\n",
        "for i in df_test.index:\r\n",
        "    df_train = df_train.drop(i)"
      ],
      "execution_count": null,
      "outputs": []
    },
    {
      "cell_type": "markdown",
      "metadata": {
        "id": "Lq83i0bylHUt"
      },
      "source": [
        "# Data Exploration"
      ]
    },
    {
      "cell_type": "markdown",
      "metadata": {
        "id": "0zQNldXyxhRr"
      },
      "source": [
        "Exploration of variables in relation to our outcome variable of interest, tuition."
      ]
    },
    {
      "cell_type": "markdown",
      "metadata": {
        "id": "kJqf71mWx3W-"
      },
      "source": [
        "## Ranking"
      ]
    },
    {
      "cell_type": "markdown",
      "metadata": {
        "id": "gMZmoCIix8tY"
      },
      "source": [
        "Scatterplot:"
      ]
    },
    {
      "cell_type": "code",
      "metadata": {
        "colab": {
          "base_uri": "https://localhost:8080/",
          "height": 638
        },
        "id": "AM6fZ06tvtqj",
        "outputId": "26d2a47e-0233-46cb-9752-0e136fc9d18c"
      },
      "source": [
        "df_full.plot.scatter(x=\"rankingDisplayRank\", y=\"tuition\",figsize=(10,10), title =\"Scatterplot of Tuition vs. Ranking\")"
      ],
      "execution_count": null,
      "outputs": [
        {
          "output_type": "execute_result",
          "data": {
            "text/plain": [
              "<matplotlib.axes._subplots.AxesSubplot at 0x7f3a8b12f690>"
            ]
          },
          "metadata": {
            "tags": []
          },
          "execution_count": 11
        },
        {
          "output_type": "display_data",
          "data": {
            "image/png": "[encoded data removed]",
            "text/plain": [
              "<Figure size 720x720 with 1 Axes>"
            ]
          },
          "metadata": {
            "tags": [],
            "needs_background": "light"
          }
        }
      ]
    },
    {
      "cell_type": "markdown",
      "metadata": {
        "id": "5JfRFH4cyALG"
      },
      "source": [
        "Correlation: "
      ]
    },
    {
      "cell_type": "code",
      "metadata": {
        "colab": {
          "base_uri": "https://localhost:8080/"
        },
        "id": "kqcDLouTaDFx",
        "outputId": "2b1cf541-d465-45f4-8d80-9521cf74073e"
      },
      "source": [
        "df_full[\"tuition\"].corr(df_full[\"rankingDisplayRank\"])"
      ],
      "execution_count": null,
      "outputs": [
        {
          "output_type": "execute_result",
          "data": {
            "text/plain": [
              "-0.8097964036798709"
            ]
          },
          "metadata": {
            "tags": []
          },
          "execution_count": 12
        }
      ]
    },
    {
      "cell_type": "markdown",
      "metadata": {
        "id": "geAXPTmoyDLo"
      },
      "source": [
        "## Graduation Rate"
      ]
    },
    {
      "cell_type": "markdown",
      "metadata": {
        "id": "Taeacl1vyF3K"
      },
      "source": [
        "Scatterplot:"
      ]
    },
    {
      "cell_type": "code",
      "metadata": {
        "colab": {
          "base_uri": "https://localhost:8080/",
          "height": 312
        },
        "id": "QnuyPZt8vnnk",
        "outputId": "792cbdda-b0d4-43a2-c8be-22e39ad48171"
      },
      "source": [
        "df_full.plot.scatter(x=\"Grad.Rate\", y=\"tuition\", title =\"Scatterplot of Tuition vs. Graduation Rate\")"
      ],
      "execution_count": null,
      "outputs": [
        {
          "output_type": "execute_result",
          "data": {
            "text/plain": [
              "<matplotlib.axes._subplots.AxesSubplot at 0x7f3a8b07b7d0>"
            ]
          },
          "metadata": {
            "tags": []
          },
          "execution_count": 13
        },
        {
          "output_type": "display_data",
          "data": {
            "image/png": "[encoded data removed]",
            "text/plain": [
              "<Figure size 432x288 with 1 Axes>"
            ]
          },
          "metadata": {
            "tags": [],
            "needs_background": "light"
          }
        }
      ]
    },
    {
      "cell_type": "markdown",
      "metadata": {
        "id": "frHyP0l-yHi_"
      },
      "source": [
        "Correlation: "
      ]
    },
    {
      "cell_type": "code",
      "metadata": {
        "colab": {
          "base_uri": "https://localhost:8080/"
        },
        "id": "2ODhsdXfoPrS",
        "outputId": "bbae0460-20b1-4c99-eb63-99341f303f12"
      },
      "source": [
        "df_full[\"tuition\"].corr(df_full[\"Grad.Rate\"])"
      ],
      "execution_count": null,
      "outputs": [
        {
          "output_type": "execute_result",
          "data": {
            "text/plain": [
              "0.695669040522532"
            ]
          },
          "metadata": {
            "tags": []
          },
          "execution_count": 14
        }
      ]
    },
    {
      "cell_type": "markdown",
      "metadata": {
        "id": "xp41F5K-yJna"
      },
      "source": [
        "## Acceptance Rate"
      ]
    },
    {
      "cell_type": "markdown",
      "metadata": {
        "id": "dkamhlSayL2H"
      },
      "source": [
        "Scatterplot:"
      ]
    },
    {
      "cell_type": "code",
      "metadata": {
        "colab": {
          "base_uri": "https://localhost:8080/",
          "height": 312
        },
        "id": "3MfLTpGKloAI",
        "outputId": "3c91daea-bb50-48ca-cd67-d3b927ab33cb"
      },
      "source": [
        "df_full.plot.scatter(x=\"acceptance-rate\", y=\"tuition\", title =\"Scatterplot of Tuition vs. Acceptance Rate\")"
      ],
      "execution_count": null,
      "outputs": [
        {
          "output_type": "execute_result",
          "data": {
            "text/plain": [
              "<matplotlib.axes._subplots.AxesSubplot at 0x7f3a8ac1b310>"
            ]
          },
          "metadata": {
            "tags": []
          },
          "execution_count": 15
        },
        {
          "output_type": "display_data",
          "data": {
            "image/png": "[encoded data removed]",
            "text/plain": [
              "<Figure size 432x288 with 1 Axes>"
            ]
          },
          "metadata": {
            "tags": [],
            "needs_background": "light"
          }
        }
      ]
    },
    {
      "cell_type": "markdown",
      "metadata": {
        "id": "1RSL3vqbyOUH"
      },
      "source": [
        "Correlation: "
      ]
    },
    {
      "cell_type": "code",
      "metadata": {
        "colab": {
          "base_uri": "https://localhost:8080/"
        },
        "id": "wLIMIR-VpxKH",
        "outputId": "628019a4-f270-4f32-c336-2b05866c4cef"
      },
      "source": [
        "df_full[\"tuition\"].corr(df_full[\"acceptance-rate\"])"
      ],
      "execution_count": null,
      "outputs": [
        {
          "output_type": "execute_result",
          "data": {
            "text/plain": [
              "-0.695678820709389"
            ]
          },
          "metadata": {
            "tags": []
          },
          "execution_count": 16
        }
      ]
    },
    {
      "cell_type": "markdown",
      "metadata": {
        "id": "ukyTfZqwyVJP"
      },
      "source": [
        "## Top 10% "
      ]
    },
    {
      "cell_type": "markdown",
      "metadata": {
        "id": "iki5uuzwyX2k"
      },
      "source": [
        "Scatterplot:"
      ]
    },
    {
      "cell_type": "code",
      "metadata": {
        "colab": {
          "base_uri": "https://localhost:8080/",
          "height": 312
        },
        "id": "7VhieTHhlywI",
        "outputId": "42bd58ae-86ef-47fb-df1d-9aeec1b854d0"
      },
      "source": [
        "df_full.plot.scatter(x=\"Top10perc\",y=\"tuition\", title =\"Scatterplot of Tuition vs. Percent from Top 10% of H.S. Class\")"
      ],
      "execution_count": null,
      "outputs": [
        {
          "output_type": "execute_result",
          "data": {
            "text/plain": [
              "<matplotlib.axes._subplots.AxesSubplot at 0x7f3a8b0e04d0>"
            ]
          },
          "metadata": {
            "tags": []
          },
          "execution_count": 17
        },
        {
          "output_type": "display_data",
          "data": {
            "image/png": "[encoded data removed]",
            "text/plain": [
              "<Figure size 432x288 with 1 Axes>"
            ]
          },
          "metadata": {
            "tags": [],
            "needs_background": "light"
          }
        }
      ]
    },
    {
      "cell_type": "markdown",
      "metadata": {
        "id": "wjxQNmCXyaYp"
      },
      "source": [
        "Correlation: "
      ]
    },
    {
      "cell_type": "code",
      "metadata": {
        "colab": {
          "base_uri": "https://localhost:8080/"
        },
        "id": "25kn-ojeq3ah",
        "outputId": "a4b66a7d-8b93-4581-960d-0edbc4573ab5"
      },
      "source": [
        "df_full[\"tuition\"].corr(df_full[\"Top10perc\"])"
      ],
      "execution_count": null,
      "outputs": [
        {
          "output_type": "execute_result",
          "data": {
            "text/plain": [
              "0.6665815947056888"
            ]
          },
          "metadata": {
            "tags": []
          },
          "execution_count": 18
        }
      ]
    },
    {
      "cell_type": "markdown",
      "metadata": {
        "id": "en1wwmRSycgs"
      },
      "source": [
        "## Faculty PhD's"
      ]
    },
    {
      "cell_type": "markdown",
      "metadata": {
        "id": "zDi5yUdvyfMV"
      },
      "source": [
        "Scatterplot:"
      ]
    },
    {
      "cell_type": "code",
      "metadata": {
        "colab": {
          "base_uri": "https://localhost:8080/",
          "height": 312
        },
        "id": "0dB_x76Rl26k",
        "outputId": "49c28080-d861-4b63-d583-de31794ee2ee"
      },
      "source": [
        "df_full.plot.scatter(x=\"PhD\", y=\"tuition\", title =\"Scatterplot of Tuition vs. Percent of Faculty with PhD\")"
      ],
      "execution_count": null,
      "outputs": [
        {
          "output_type": "execute_result",
          "data": {
            "text/plain": [
              "<matplotlib.axes._subplots.AxesSubplot at 0x7f3a8aafc950>"
            ]
          },
          "metadata": {
            "tags": []
          },
          "execution_count": 19
        },
        {
          "output_type": "display_data",
          "data": {
            "image/png": "[encoded data removed]",
            "text/plain": [
              "<Figure size 432x288 with 1 Axes>"
            ]
          },
          "metadata": {
            "tags": [],
            "needs_background": "light"
          }
        }
      ]
    },
    {
      "cell_type": "markdown",
      "metadata": {
        "id": "9Z3mMQN-yhgh"
      },
      "source": [
        "Correlation:"
      ]
    },
    {
      "cell_type": "code",
      "metadata": {
        "colab": {
          "base_uri": "https://localhost:8080/"
        },
        "id": "gyRLRUmkroue",
        "outputId": "cfcedea1-688f-4ad5-f11c-7a8cb34fc8d2"
      },
      "source": [
        "df_full[\"tuition\"].corr(df_full[\"PhD\"])"
      ],
      "execution_count": null,
      "outputs": [
        {
          "output_type": "execute_result",
          "data": {
            "text/plain": [
              "0.4679687360817563"
            ]
          },
          "metadata": {
            "tags": []
          },
          "execution_count": 20
        }
      ]
    },
    {
      "cell_type": "markdown",
      "metadata": {
        "id": "5kT6Z0tHyjnZ"
      },
      "source": [
        "## Student to Faculty Ratio"
      ]
    },
    {
      "cell_type": "markdown",
      "metadata": {
        "id": "_YnW3ckKymNQ"
      },
      "source": [
        "Scatterplot"
      ]
    },
    {
      "cell_type": "code",
      "metadata": {
        "colab": {
          "base_uri": "https://localhost:8080/",
          "height": 312
        },
        "id": "Z7LK5oP_l833",
        "outputId": "8796f840-0706-4e13-f0c3-51b24c00dec2"
      },
      "source": [
        "df_full.plot.scatter(x=\"S.F.Ratio\", y=\"tuition\", title =\"Scatterplot of Tuition vs. Student to Faculty Ratio\")"
      ],
      "execution_count": null,
      "outputs": [
        {
          "output_type": "execute_result",
          "data": {
            "text/plain": [
              "<matplotlib.axes._subplots.AxesSubplot at 0x7f3a8aa6e0d0>"
            ]
          },
          "metadata": {
            "tags": []
          },
          "execution_count": 21
        },
        {
          "output_type": "display_data",
          "data": {
            "image/png": "[encoded data removed]",
            "text/plain": [
              "<Figure size 432x288 with 1 Axes>"
            ]
          },
          "metadata": {
            "tags": [],
            "needs_background": "light"
          }
        }
      ]
    },
    {
      "cell_type": "markdown",
      "metadata": {
        "id": "7aMeUR85yoEX"
      },
      "source": [
        "Correlation: "
      ]
    },
    {
      "cell_type": "code",
      "metadata": {
        "colab": {
          "base_uri": "https://localhost:8080/"
        },
        "id": "0Ocqla_Ts8xD",
        "outputId": "eebb0ae8-7b87-4772-bdef-2583a65b6382"
      },
      "source": [
        "df_full[\"tuition\"].corr(df_full[\"S.F.Ratio\"])"
      ],
      "execution_count": null,
      "outputs": [
        {
          "output_type": "execute_result",
          "data": {
            "text/plain": [
              "-0.6918991327879171"
            ]
          },
          "metadata": {
            "tags": []
          },
          "execution_count": 22
        }
      ]
    },
    {
      "cell_type": "markdown",
      "metadata": {
        "id": "fBa0u1ZVyqQQ"
      },
      "source": [
        "## Engineering Reputation Score"
      ]
    },
    {
      "cell_type": "markdown",
      "metadata": {
        "id": "gdMqB6Tlysw3"
      },
      "source": [
        "Scatterplot:"
      ]
    },
    {
      "cell_type": "code",
      "metadata": {
        "colab": {
          "base_uri": "https://localhost:8080/",
          "height": 312
        },
        "id": "aeqxnk1eu7Ld",
        "outputId": "764aff3a-5681-4740-8a7c-8c9f5cf343a2"
      },
      "source": [
        "df_full.plot.scatter(x=\"engineeringRepScore\", y=\"tuition\", title =\"Scatterplot of Tuition vs. Engineering Reputation Score\")"
      ],
      "execution_count": null,
      "outputs": [
        {
          "output_type": "execute_result",
          "data": {
            "text/plain": [
              "<matplotlib.axes._subplots.AxesSubplot at 0x7f3a8aa42550>"
            ]
          },
          "metadata": {
            "tags": []
          },
          "execution_count": 23
        },
        {
          "output_type": "display_data",
          "data": {
            "image/png": "[encoded data removed]",
            "text/plain": [
              "<Figure size 432x288 with 1 Axes>"
            ]
          },
          "metadata": {
            "tags": [],
            "needs_background": "light"
          }
        }
      ]
    },
    {
      "cell_type": "markdown",
      "metadata": {
        "id": "4YHyYFwoyuRz"
      },
      "source": [
        "Correlation: "
      ]
    },
    {
      "cell_type": "code",
      "metadata": {
        "colab": {
          "base_uri": "https://localhost:8080/"
        },
        "id": "TkHTdg3jtuox",
        "outputId": "33d1cf64-2990-4afa-bd10-73472d2f4bfb"
      },
      "source": [
        "df_full[\"tuition\"].corr(df_full[\"engineeringRepScore\"])"
      ],
      "execution_count": null,
      "outputs": [
        {
          "output_type": "execute_result",
          "data": {
            "text/plain": [
              "0.4708187230186716"
            ]
          },
          "metadata": {
            "tags": []
          },
          "execution_count": 24
        }
      ]
    },
    {
      "cell_type": "markdown",
      "metadata": {
        "id": "CG3tbDczyxFW"
      },
      "source": [
        "## Business Reputation Score"
      ]
    },
    {
      "cell_type": "markdown",
      "metadata": {
        "id": "aJzA2zRAyz45"
      },
      "source": [
        "Scatterplot:"
      ]
    },
    {
      "cell_type": "code",
      "metadata": {
        "colab": {
          "base_uri": "https://localhost:8080/",
          "height": 312
        },
        "id": "OLgGRYH4mIn7",
        "outputId": "46d248ad-dcfb-4402-dbd6-4e3f34ccb5ef"
      },
      "source": [
        "df_full.plot.scatter(x=\"businessRepScore\", y=\"tuition\", title =\"Scatterplot of Tuition vs. Business Reputation Score\")"
      ],
      "execution_count": null,
      "outputs": [
        {
          "output_type": "execute_result",
          "data": {
            "text/plain": [
              "<matplotlib.axes._subplots.AxesSubplot at 0x7f3a8aa772d0>"
            ]
          },
          "metadata": {
            "tags": []
          },
          "execution_count": 25
        },
        {
          "output_type": "display_data",
          "data": {
            "image/png": "[encoded data removed]",
            "text/plain": [
              "<Figure size 432x288 with 1 Axes>"
            ]
          },
          "metadata": {
            "tags": [],
            "needs_background": "light"
          }
        }
      ]
    },
    {
      "cell_type": "markdown",
      "metadata": {
        "id": "7dLeqyfjy10N"
      },
      "source": [
        "Correlation: "
      ]
    },
    {
      "cell_type": "code",
      "metadata": {
        "colab": {
          "base_uri": "https://localhost:8080/"
        },
        "id": "IJTHbd6CuRII",
        "outputId": "d1a05a58-6b64-4460-bf66-3e7c69067505"
      },
      "source": [
        "df_full[\"tuition\"].corr(df_full[\"businessRepScore\"])"
      ],
      "execution_count": null,
      "outputs": [
        {
          "output_type": "execute_result",
          "data": {
            "text/plain": [
              "0.5158472090128094"
            ]
          },
          "metadata": {
            "tags": []
          },
          "execution_count": 26
        }
      ]
    },
    {
      "cell_type": "markdown",
      "metadata": {
        "id": "z6jAvls4y44T"
      },
      "source": [
        "## Public or Private"
      ]
    },
    {
      "cell_type": "markdown",
      "metadata": {
        "id": "cpF8xRIUy67W"
      },
      "source": [
        "Bar Graph: "
      ]
    },
    {
      "cell_type": "code",
      "metadata": {
        "colab": {
          "base_uri": "https://localhost:8080/",
          "height": 318
        },
        "id": "_W573mH9sRtG",
        "outputId": "50dec802-5589-43db-8c7b-be00f15db275"
      },
      "source": [
        "df_full.groupby(\"Private\")[\"tuition\"].mean().plot.bar(title =\"Bar Graph of Mean Tuition for Public vs. Private Universities\")"
      ],
      "execution_count": null,
      "outputs": [
        {
          "output_type": "execute_result",
          "data": {
            "text/plain": [
              "<matplotlib.axes._subplots.AxesSubplot at 0x7f3a8a92ec50>"
            ]
          },
          "metadata": {
            "tags": []
          },
          "execution_count": 27
        },
        {
          "output_type": "display_data",
          "data": {
            "image/png": "[encoded data removed]",
            "text/plain": [
              "<Figure size 432x288 with 1 Axes>"
            ]
          },
          "metadata": {
            "tags": [],
            "needs_background": "light"
          }
        }
      ]
    },
    {
      "cell_type": "markdown",
      "metadata": {
        "id": "STGtAF4my9p_"
      },
      "source": [
        "Means: "
      ]
    },
    {
      "cell_type": "code",
      "metadata": {
        "colab": {
          "base_uri": "https://localhost:8080/"
        },
        "id": "hLIZN2ZumUge",
        "outputId": "fa1de0e5-7759-4c55-b037-6358cf1a33f4"
      },
      "source": [
        "df_full.groupby(\"Private\")[\"tuition\"].mean()"
      ],
      "execution_count": null,
      "outputs": [
        {
          "output_type": "execute_result",
          "data": {
            "text/plain": [
              "Private\n",
              "No     25732.948276\n",
              "Yes    46496.761194\n",
              "Name: tuition, dtype: float64"
            ]
          },
          "metadata": {
            "tags": []
          },
          "execution_count": 28
        }
      ]
    },
    {
      "cell_type": "markdown",
      "metadata": {
        "id": "avF2I3B6m34B"
      },
      "source": [
        "# Machine Learning"
      ]
    },
    {
      "cell_type": "markdown",
      "metadata": {
        "id": "YowyBGmpUTKM"
      },
      "source": [
        "## Linear Regression"
      ]
    },
    {
      "cell_type": "markdown",
      "metadata": {
        "id": "c8gBsGmVUXSv"
      },
      "source": [
        "### Full Model"
      ]
    },
    {
      "cell_type": "markdown",
      "metadata": {
        "id": "vIidkDCiPV7F"
      },
      "source": [
        " Full linear regression model with ranking, graduation rate, acceptance rate, percent of incoming students from the top 10% of their high school class, student to faculty ratio, and public or private university as predictors. "
      ]
    },
    {
      "cell_type": "code",
      "metadata": {
        "id": "q7taem2KOdl8",
        "colab": {
          "base_uri": "https://localhost:8080/"
        },
        "outputId": "24317bfa-9b63-4d76-d7fb-1de9a577a7d7"
      },
      "source": [
        "X_train = df_train[[\"rankingDisplayRank\",\"Grad.Rate\",\"acceptance-rate\",\"Top10perc\",\"S.F.Ratio\",\"Private\"]]\r\n",
        "X_test = df_test[[\"rankingDisplayRank\",\"Grad.Rate\",\"acceptance-rate\",\"Top10perc\",\"S.F.Ratio\",\"Private\"]]\r\n",
        "y_train = df_train[\"tuition\"]\r\n",
        "y_test = df_test[\"tuition\"]\r\n",
        "\r\n",
        "ct = make_column_transformer(\r\n",
        "    (OneHotEncoder(), [\"Private\"]),\r\n",
        "    remainder='passthrough'\r\n",
        ")\r\n",
        "pipeline = make_pipeline(\r\n",
        "    ct,\r\n",
        "    StandardScaler(with_mean=False),\r\n",
        "    LinearRegression()\r\n",
        ")\r\n",
        "\r\n",
        "pipeline.fit(X=X_train,y=y_train)"
      ],
      "execution_count": null,
      "outputs": [
        {
          "output_type": "execute_result",
          "data": {
            "text/plain": [
              "Pipeline(memory=None,\n",
              "         steps=[('columntransformer',\n",
              "                 ColumnTransformer(n_jobs=None, remainder='passthrough',\n",
              "                                   sparse_threshold=0.3,\n",
              "                                   transformer_weights=None,\n",
              "                                   transformers=[('onehotencoder',\n",
              "                                                  OneHotEncoder(categories='auto',\n",
              "                                                                drop=None,\n",
              "                                                                dtype=<class 'numpy.float64'>,\n",
              "                                                                handle_unknown='error',\n",
              "                                                                sparse=True),\n",
              "                                                  ['Private'])],\n",
              "                                   verbose=False)),\n",
              "                ('standardscaler',\n",
              "                 StandardScaler(copy=True, with_mean=False, with_std=True)),\n",
              "                ('linearregression',\n",
              "                 LinearRegression(copy_X=True, fit_intercept=True, n_jobs=None,\n",
              "                                  normalize=False))],\n",
              "         verbose=False)"
            ]
          },
          "metadata": {
            "tags": []
          },
          "execution_count": 29
        }
      ]
    },
    {
      "cell_type": "code",
      "metadata": {
        "id": "XAs0qn3upe2o",
        "colab": {
          "base_uri": "https://localhost:8080/"
        },
        "outputId": "709d126a-7e5f-4324-c277-5a0b0070a2d7"
      },
      "source": [
        "y_pred = pipeline.predict(X=X_test)\r\n",
        "r2_score(y_pred, y_test)"
      ],
      "execution_count": null,
      "outputs": [
        {
          "output_type": "execute_result",
          "data": {
            "text/plain": [
              "0.8566461229504313"
            ]
          },
          "metadata": {
            "tags": []
          },
          "execution_count": 30
        }
      ]
    },
    {
      "cell_type": "markdown",
      "metadata": {
        "id": "Wnn3Aw2WUbOJ"
      },
      "source": [
        "### Test Private"
      ]
    },
    {
      "cell_type": "code",
      "metadata": {
        "colab": {
          "base_uri": "https://localhost:8080/"
        },
        "id": "1tJN6bUJUkeA",
        "outputId": "e59cdb98-b388-4491-e219-79d8e0803f53"
      },
      "source": [
        "X_train = df_train[[\"rankingDisplayRank\",\"Grad.Rate\",\"acceptance-rate\",\"Top10perc\",\"S.F.Ratio\"]]\r\n",
        "X_test = df_test[[\"rankingDisplayRank\",\"Grad.Rate\",\"acceptance-rate\",\"Top10perc\",\"S.F.Ratio\"]]\r\n",
        "y_train = df_train[\"tuition\"]\r\n",
        "y_test = df_test[\"tuition\"]\r\n",
        "\r\n",
        "\r\n",
        "pipeline = make_pipeline(\r\n",
        "    StandardScaler(with_mean=False),\r\n",
        "    LinearRegression()\r\n",
        ")\r\n",
        "\r\n",
        "pipeline.fit(X=X_train,y=y_train)"
      ],
      "execution_count": null,
      "outputs": [
        {
          "output_type": "execute_result",
          "data": {
            "text/plain": [
              "Pipeline(memory=None,\n",
              "         steps=[('standardscaler',\n",
              "                 StandardScaler(copy=True, with_mean=False, with_std=True)),\n",
              "                ('linearregression',\n",
              "                 LinearRegression(copy_X=True, fit_intercept=True, n_jobs=None,\n",
              "                                  normalize=False))],\n",
              "         verbose=False)"
            ]
          },
          "metadata": {
            "tags": []
          },
          "execution_count": 31
        }
      ]
    },
    {
      "cell_type": "code",
      "metadata": {
        "colab": {
          "base_uri": "https://localhost:8080/"
        },
        "id": "s5eAN9LCUkeB",
        "outputId": "2aecc846-bed0-4756-e03f-84002ff0434b"
      },
      "source": [
        "y_pred = pipeline.predict(X=X_test)\r\n",
        "r2_score(y_pred, y_test)"
      ],
      "execution_count": null,
      "outputs": [
        {
          "output_type": "execute_result",
          "data": {
            "text/plain": [
              "0.7059723584581655"
            ]
          },
          "metadata": {
            "tags": []
          },
          "execution_count": 32
        }
      ]
    },
    {
      "cell_type": "markdown",
      "metadata": {
        "id": "CsD5KN5qUzyq"
      },
      "source": [
        "R squared value went down, Private is a significant predictor and should be kept."
      ]
    },
    {
      "cell_type": "markdown",
      "metadata": {
        "id": "0NhFbVbyU9Yz"
      },
      "source": [
        "### Test S.F.Ratio"
      ]
    },
    {
      "cell_type": "code",
      "metadata": {
        "colab": {
          "base_uri": "https://localhost:8080/"
        },
        "id": "p4at7E6YVDGB",
        "outputId": "53f6aa5c-3b41-4859-acad-bbfd4cfe8730"
      },
      "source": [
        "X_train = df_train[[\"rankingDisplayRank\",\"Grad.Rate\",\"acceptance-rate\",\"Top10perc\",\"Private\"]]\r\n",
        "X_test = df_test[[\"rankingDisplayRank\",\"Grad.Rate\",\"acceptance-rate\",\"Top10perc\",\"Private\"]]\r\n",
        "y_train = df_train[\"tuition\"]\r\n",
        "y_test = df_test[\"tuition\"]\r\n",
        "\r\n",
        "ct = make_column_transformer(\r\n",
        "    (OneHotEncoder(), [\"Private\"]),\r\n",
        "    remainder='passthrough'\r\n",
        ")\r\n",
        "pipeline = make_pipeline(\r\n",
        "    ct,\r\n",
        "    StandardScaler(with_mean=False),\r\n",
        "    LinearRegression()\r\n",
        ")\r\n",
        "\r\n",
        "pipeline.fit(X=X_train,y=y_train)"
      ],
      "execution_count": null,
      "outputs": [
        {
          "output_type": "execute_result",
          "data": {
            "text/plain": [
              "Pipeline(memory=None,\n",
              "         steps=[('columntransformer',\n",
              "                 ColumnTransformer(n_jobs=None, remainder='passthrough',\n",
              "                                   sparse_threshold=0.3,\n",
              "                                   transformer_weights=None,\n",
              "                                   transformers=[('onehotencoder',\n",
              "                                                  OneHotEncoder(categories='auto',\n",
              "                                                                drop=None,\n",
              "                                                                dtype=<class 'numpy.float64'>,\n",
              "                                                                handle_unknown='error',\n",
              "                                                                sparse=True),\n",
              "                                                  ['Private'])],\n",
              "                                   verbose=False)),\n",
              "                ('standardscaler',\n",
              "                 StandardScaler(copy=True, with_mean=False, with_std=True)),\n",
              "                ('linearregression',\n",
              "                 LinearRegression(copy_X=True, fit_intercept=True, n_jobs=None,\n",
              "                                  normalize=False))],\n",
              "         verbose=False)"
            ]
          },
          "metadata": {
            "tags": []
          },
          "execution_count": 33
        }
      ]
    },
    {
      "cell_type": "code",
      "metadata": {
        "colab": {
          "base_uri": "https://localhost:8080/"
        },
        "id": "mczrNAGiVDGC",
        "outputId": "3fa4b666-96ba-4660-a2b5-3d2f97a94866"
      },
      "source": [
        "y_pred = pipeline.predict(X=X_test)\r\n",
        "r2_score(y_pred, y_test)"
      ],
      "execution_count": null,
      "outputs": [
        {
          "output_type": "execute_result",
          "data": {
            "text/plain": [
              "0.8577243956221811"
            ]
          },
          "metadata": {
            "tags": []
          },
          "execution_count": 34
        }
      ]
    },
    {
      "cell_type": "markdown",
      "metadata": {
        "id": "VS3whGXtVPs7"
      },
      "source": [
        "R squared did not change significantly, S.F.Ratio will remain in the final model. "
      ]
    },
    {
      "cell_type": "markdown",
      "metadata": {
        "id": "zbd9wlzkVZOb"
      },
      "source": [
        "### Test Top10perc"
      ]
    },
    {
      "cell_type": "code",
      "metadata": {
        "colab": {
          "base_uri": "https://localhost:8080/"
        },
        "id": "XM6srVPZVdzg",
        "outputId": "ecce3262-9c4b-42be-beff-fe16c825c34b"
      },
      "source": [
        "X_train = df_train[[\"rankingDisplayRank\",\"Grad.Rate\",\"acceptance-rate\",\"Private\"]]\r\n",
        "X_test = df_test[[\"rankingDisplayRank\",\"Grad.Rate\",\"acceptance-rate\",\"Private\"]]\r\n",
        "y_train = df_train[\"tuition\"]\r\n",
        "y_test = df_test[\"tuition\"]\r\n",
        "\r\n",
        "ct = make_column_transformer(\r\n",
        "    (OneHotEncoder(), [\"Private\"]),\r\n",
        "    remainder='passthrough'\r\n",
        ")\r\n",
        "pipeline = make_pipeline(\r\n",
        "    ct,\r\n",
        "    StandardScaler(with_mean=False),\r\n",
        "    LinearRegression()\r\n",
        ")\r\n",
        "\r\n",
        "pipeline.fit(X=X_train,y=y_train)"
      ],
      "execution_count": null,
      "outputs": [
        {
          "output_type": "execute_result",
          "data": {
            "text/plain": [
              "Pipeline(memory=None,\n",
              "         steps=[('columntransformer',\n",
              "                 ColumnTransformer(n_jobs=None, remainder='passthrough',\n",
              "                                   sparse_threshold=0.3,\n",
              "                                   transformer_weights=None,\n",
              "                                   transformers=[('onehotencoder',\n",
              "                                                  OneHotEncoder(categories='auto',\n",
              "                                                                drop=None,\n",
              "                                                                dtype=<class 'numpy.float64'>,\n",
              "                                                                handle_unknown='error',\n",
              "                                                                sparse=True),\n",
              "                                                  ['Private'])],\n",
              "                                   verbose=False)),\n",
              "                ('standardscaler',\n",
              "                 StandardScaler(copy=True, with_mean=False, with_std=True)),\n",
              "                ('linearregression',\n",
              "                 LinearRegression(copy_X=True, fit_intercept=True, n_jobs=None,\n",
              "                                  normalize=False))],\n",
              "         verbose=False)"
            ]
          },
          "metadata": {
            "tags": []
          },
          "execution_count": 54
        }
      ]
    },
    {
      "cell_type": "code",
      "metadata": {
        "colab": {
          "base_uri": "https://localhost:8080/"
        },
        "id": "Fcr5DdYdVdzh",
        "outputId": "e8d2b509-5603-45c5-f97f-d209fef1b051"
      },
      "source": [
        "y_pred = pipeline.predict(X=X_test)\r\n",
        "r2_score(y_pred, y_test)"
      ],
      "execution_count": null,
      "outputs": [
        {
          "output_type": "execute_result",
          "data": {
            "text/plain": [
              "0.865584505376064"
            ]
          },
          "metadata": {
            "tags": []
          },
          "execution_count": 55
        }
      ]
    },
    {
      "cell_type": "markdown",
      "metadata": {
        "id": "IaFAwK3cVkL1"
      },
      "source": [
        "R squared went up, Top10perc should be left out of final model. "
      ]
    },
    {
      "cell_type": "markdown",
      "metadata": {
        "id": "JqCot3zgVq8z"
      },
      "source": [
        "### Test acceptance rate"
      ]
    },
    {
      "cell_type": "code",
      "metadata": {
        "colab": {
          "base_uri": "https://localhost:8080/"
        },
        "id": "ZzSO9qRlVvvG",
        "outputId": "6f93814b-e5ef-4e50-d660-0bc6cd8f23d1"
      },
      "source": [
        "X_train = df_train[[\"rankingDisplayRank\",\"Grad.Rate\",\"Private\"]]\r\n",
        "X_test = df_test[[\"rankingDisplayRank\",\"Grad.Rate\",\"Private\"]]\r\n",
        "y_train = df_train[\"tuition\"]\r\n",
        "y_test = df_test[\"tuition\"]\r\n",
        "\r\n",
        "ct = make_column_transformer(\r\n",
        "    (OneHotEncoder(), [\"Private\"]),\r\n",
        "    remainder='passthrough'\r\n",
        ")\r\n",
        "pipeline = make_pipeline(\r\n",
        "    ct,\r\n",
        "    StandardScaler(with_mean=False),\r\n",
        "    LinearRegression()\r\n",
        ")\r\n",
        "\r\n",
        "pipeline.fit(X=X_train,y=y_train)"
      ],
      "execution_count": null,
      "outputs": [
        {
          "output_type": "execute_result",
          "data": {
            "text/plain": [
              "Pipeline(memory=None,\n",
              "         steps=[('columntransformer',\n",
              "                 ColumnTransformer(n_jobs=None, remainder='passthrough',\n",
              "                                   sparse_threshold=0.3,\n",
              "                                   transformer_weights=None,\n",
              "                                   transformers=[('onehotencoder',\n",
              "                                                  OneHotEncoder(categories='auto',\n",
              "                                                                drop=None,\n",
              "                                                                dtype=<class 'numpy.float64'>,\n",
              "                                                                handle_unknown='error',\n",
              "                                                                sparse=True),\n",
              "                                                  ['Private'])],\n",
              "                                   verbose=False)),\n",
              "                ('standardscaler',\n",
              "                 StandardScaler(copy=True, with_mean=False, with_std=True)),\n",
              "                ('linearregression',\n",
              "                 LinearRegression(copy_X=True, fit_intercept=True, n_jobs=None,\n",
              "                                  normalize=False))],\n",
              "         verbose=False)"
            ]
          },
          "metadata": {
            "tags": []
          },
          "execution_count": 56
        }
      ]
    },
    {
      "cell_type": "code",
      "metadata": {
        "colab": {
          "base_uri": "https://localhost:8080/"
        },
        "id": "pN0iqgLnVvvH",
        "outputId": "b305cdf2-67ee-47d5-ebd2-18fa7758ea8c"
      },
      "source": [
        "y_pred = pipeline.predict(X=X_test)\r\n",
        "r2_score(y_pred, y_test)"
      ],
      "execution_count": null,
      "outputs": [
        {
          "output_type": "execute_result",
          "data": {
            "text/plain": [
              "0.866050997024103"
            ]
          },
          "metadata": {
            "tags": []
          },
          "execution_count": 38
        }
      ]
    },
    {
      "cell_type": "markdown",
      "metadata": {
        "id": "02zBgjUrV6L7"
      },
      "source": [
        "R squared went up slightly, acceptance rate should not remain in the model."
      ]
    },
    {
      "cell_type": "markdown",
      "metadata": {
        "id": "8aOR-4W2WDKN"
      },
      "source": [
        "### Test Grad Rate"
      ]
    },
    {
      "cell_type": "code",
      "metadata": {
        "colab": {
          "base_uri": "https://localhost:8080/"
        },
        "id": "gr7EwVEJWGUH",
        "outputId": "be0b2c7c-53b9-4534-9e79-d48404f73abf"
      },
      "source": [
        "X_train = df_train[[\"rankingDisplayRank\",\"Grad.Rate\",\"Private\"]]\r\n",
        "X_test = df_test[[\"rankingDisplayRank\",\"Grad.Rate\",\"Private\"]]\r\n",
        "y_train = df_train[\"tuition\"]\r\n",
        "y_test = df_test[\"tuition\"]\r\n",
        "\r\n",
        "ct = make_column_transformer(\r\n",
        "    (OneHotEncoder(), [\"Private\"]),\r\n",
        "    remainder='passthrough'\r\n",
        ")\r\n",
        "pipeline = make_pipeline(\r\n",
        "    ct,\r\n",
        "    StandardScaler(with_mean=False),\r\n",
        "    LinearRegression()\r\n",
        ")\r\n",
        "\r\n",
        "pipeline.fit(X=X_train,y=y_train)"
      ],
      "execution_count": null,
      "outputs": [
        {
          "output_type": "execute_result",
          "data": {
            "text/plain": [
              "Pipeline(memory=None,\n",
              "         steps=[('columntransformer',\n",
              "                 ColumnTransformer(n_jobs=None, remainder='passthrough',\n",
              "                                   sparse_threshold=0.3,\n",
              "                                   transformer_weights=None,\n",
              "                                   transformers=[('onehotencoder',\n",
              "                                                  OneHotEncoder(categories='auto',\n",
              "                                                                drop=None,\n",
              "                                                                dtype=<class 'numpy.float64'>,\n",
              "                                                                handle_unknown='error',\n",
              "                                                                sparse=True),\n",
              "                                                  ['Private'])],\n",
              "                                   verbose=False)),\n",
              "                ('standardscaler',\n",
              "                 StandardScaler(copy=True, with_mean=False, with_std=True)),\n",
              "                ('linearregression',\n",
              "                 LinearRegression(copy_X=True, fit_intercept=True, n_jobs=None,\n",
              "                                  normalize=False))],\n",
              "         verbose=False)"
            ]
          },
          "metadata": {
            "tags": []
          },
          "execution_count": 61
        }
      ]
    },
    {
      "cell_type": "code",
      "metadata": {
        "colab": {
          "base_uri": "https://localhost:8080/"
        },
        "id": "mPfW6YwWWGUI",
        "outputId": "5cebb788-89b2-44d6-e7b0-cf36f58cb18f"
      },
      "source": [
        "y_pred = pipeline.predict(X=X_test)\r\n",
        "r2_score(y_pred, y_test)"
      ],
      "execution_count": null,
      "outputs": [
        {
          "output_type": "execute_result",
          "data": {
            "text/plain": [
              "0.8668463681412193"
            ]
          },
          "metadata": {
            "tags": []
          },
          "execution_count": 62
        }
      ]
    },
    {
      "cell_type": "markdown",
      "metadata": {
        "id": "rXW8n8x0-GRk"
      },
      "source": [
        "R squared went up so Grad rate should not remain in model."
      ]
    },
    {
      "cell_type": "markdown",
      "metadata": {
        "id": "WigtOqz7W7Lb"
      },
      "source": [
        "### Test Ranking"
      ]
    },
    {
      "cell_type": "code",
      "metadata": {
        "colab": {
          "base_uri": "https://localhost:8080/"
        },
        "id": "Pv7NzVGHW_sk",
        "outputId": "43c5d5ef-78db-4fbe-9497-9c757b2edaa4"
      },
      "source": [
        "X_train = df_train[[\"Grad.Rate\",\"acceptance-rate\",\"S.F.Ratio\",\"Private\"]]\r\n",
        "X_test = df_test[[\"Grad.Rate\",\"acceptance-rate\",\"S.F.Ratio\",\"Private\"]]\r\n",
        "y_train = df_train[\"tuition\"]\r\n",
        "y_test = df_test[\"tuition\"]\r\n",
        "\r\n",
        "ct = make_column_transformer(\r\n",
        "    (OneHotEncoder(), [\"Private\"]),\r\n",
        "    remainder='passthrough'\r\n",
        ")\r\n",
        "pipeline = make_pipeline(\r\n",
        "    ct,\r\n",
        "    StandardScaler(with_mean=False),\r\n",
        "    LinearRegression()\r\n",
        ")\r\n",
        "\r\n",
        "pipeline.fit(X=X_train,y=y_train)"
      ],
      "execution_count": null,
      "outputs": [
        {
          "output_type": "execute_result",
          "data": {
            "text/plain": [
              "Pipeline(memory=None,\n",
              "         steps=[('columntransformer',\n",
              "                 ColumnTransformer(n_jobs=None, remainder='passthrough',\n",
              "                                   sparse_threshold=0.3,\n",
              "                                   transformer_weights=None,\n",
              "                                   transformers=[('onehotencoder',\n",
              "                                                  OneHotEncoder(categories='auto',\n",
              "                                                                drop=None,\n",
              "                                                                dtype=<class 'numpy.float64'>,\n",
              "                                                                handle_unknown='error',\n",
              "                                                                sparse=True),\n",
              "                                                  ['Private'])],\n",
              "                                   verbose=False)),\n",
              "                ('standardscaler',\n",
              "                 StandardScaler(copy=True, with_mean=False, with_std=True)),\n",
              "                ('linearregression',\n",
              "                 LinearRegression(copy_X=True, fit_intercept=True, n_jobs=None,\n",
              "                                  normalize=False))],\n",
              "         verbose=False)"
            ]
          },
          "metadata": {
            "tags": []
          },
          "execution_count": 41
        }
      ]
    },
    {
      "cell_type": "code",
      "metadata": {
        "colab": {
          "base_uri": "https://localhost:8080/"
        },
        "id": "_5BLVsIRW_sl",
        "outputId": "428be5eb-52bf-4263-c66a-ea92eed9061a"
      },
      "source": [
        "y_pred = pipeline.predict(X=X_test)\r\n",
        "r2_score(y_pred, y_test)"
      ],
      "execution_count": null,
      "outputs": [
        {
          "output_type": "execute_result",
          "data": {
            "text/plain": [
              "0.8284326108691598"
            ]
          },
          "metadata": {
            "tags": []
          },
          "execution_count": 42
        }
      ]
    },
    {
      "cell_type": "markdown",
      "metadata": {
        "id": "CTOZd_BoXHVH"
      },
      "source": [
        "R squared went down so ranking is a significant predictor and should remain in the model. "
      ]
    },
    {
      "cell_type": "code",
      "metadata": {
        "colab": {
          "base_uri": "https://localhost:8080/"
        },
        "id": "SkazkA2IHfBS",
        "outputId": "70a4f0a2-0768-48f1-ff24-783e2178602d"
      },
      "source": [
        "def get_r2_scores(features,scoring):\r\n",
        "  # define pipeline\r\n",
        "  if \"Private\" in features:\r\n",
        "    ct = make_column_transformer(\r\n",
        "    (OneHotEncoder(), [\"Private\"]),\r\n",
        "    remainder='passthrough')\r\n",
        "    pipeline = make_pipeline(\r\n",
        "      ct,\r\n",
        "      StandardScaler(with_mean=False),\r\n",
        "      LinearRegression())\r\n",
        "  else:\r\n",
        "    pipeline = make_pipeline(\r\n",
        "        StandardScaler(with_mean=False),\r\n",
        "        LinearRegression()\r\n",
        "    )\r\n",
        "  # calculate highest r2 from cross-validation\r\n",
        "  r2_score = cross_val_score(pipeline, X=df_train[features], \r\n",
        "                             y=y_train,\r\n",
        "                             scoring=scoring, cv=10)\r\n",
        "  # calculate average of the r2 errors\r\n",
        "  return r2_score.mean()\r\n",
        "\r\n",
        "# calculate and store errors for different feature sets\r\n",
        "scores = pd.Series()\r\n",
        "featureList = [[\"rankingDisplayRank\",\"Grad.Rate\"],\r\n",
        "                 [\"rankingDisplayRank\",\"Private\"],\r\n",
        "                 [\"rankingDisplayRank\",\"Grad.Rate\",\"acceptance-rate\"],\r\n",
        "                 [\"rankingDisplayRank\",\"acceptance-rate\",\"Private\"],\r\n",
        "                 [\"rankingDisplayRank\",\"Grad.Rate\",\"Private\"],\r\n",
        "                 [\"rankingDisplayRank\",\"Grad.Rate\",\"acceptance-rate\",\"S.F.Ratio\"],\r\n",
        "                 [\"rankingDisplayRank\",\"acceptance-rate\",\"S.F.Ratio\",\"Private\"],\r\n",
        "                 [\"Grad.Rate\",\"acceptance-rate\",\"S.F.Ratio\",\"Private\"],\r\n",
        "                 [\"rankingDisplayRank\",\"Grad.Rate\",\"acceptance-rate\",\"S.F.Ratio\",\"Private\"]]\r\n",
        "for features in [[\"rankingDisplayRank\",\"Grad.Rate\"],\r\n",
        "                 [\"rankingDisplayRank\",\"Private\"],\r\n",
        "                 [\"rankingDisplayRank\",\"Grad.Rate\",\"acceptance-rate\"],\r\n",
        "                 [\"rankingDisplayRank\",\"acceptance-rate\",\"Private\"],\r\n",
        "                 [\"rankingDisplayRank\",\"Grad.Rate\",\"Private\"],\r\n",
        "                 [\"rankingDisplayRank\",\"Grad.Rate\",\"acceptance-rate\",\"S.F.Ratio\"],\r\n",
        "                 [\"rankingDisplayRank\",\"acceptance-rate\",\"S.F.Ratio\",\"Private\"],\r\n",
        "                 [\"Grad.Rate\",\"acceptance-rate\",\"S.F.Ratio\",\"Private\"],\r\n",
        "                 [\"rankingDisplayRank\",\"Grad.Rate\",\"acceptance-rate\",\"S.F.Ratio\",\"Private\"]]:\r\n",
        "  scores[str(features)] = get_r2_scores(features,\"r2\")\r\n",
        "\r\n",
        "scores.sort_values()"
      ],
      "execution_count": null,
      "outputs": [
        {
          "output_type": "stream",
          "text": [
            "/usr/local/lib/python3.7/dist-packages/ipykernel_launcher.py:24: DeprecationWarning: The default dtype for empty Series will be 'object' instead of 'float64' in a future version. Specify a dtype explicitly to silence this warning.\n"
          ],
          "name": "stderr"
        },
        {
          "output_type": "execute_result",
          "data": {
            "text/plain": [
              "['Grad.Rate', 'acceptance-rate', 'S.F.Ratio', 'Private']                         -1.461357\n",
              "['rankingDisplayRank', 'Grad.Rate', 'acceptance-rate']                           -1.211902\n",
              "['rankingDisplayRank', 'Grad.Rate', 'acceptance-rate', 'S.F.Ratio']              -1.113200\n",
              "['rankingDisplayRank', 'Grad.Rate']                                              -0.408966\n",
              "['rankingDisplayRank', 'Grad.Rate', 'acceptance-rate', 'S.F.Ratio', 'Private']   -0.106740\n",
              "['rankingDisplayRank', 'Grad.Rate', 'Private']                                   -0.058126\n",
              "['rankingDisplayRank', 'acceptance-rate', 'S.F.Ratio', 'Private']                 0.015209\n",
              "['rankingDisplayRank', 'acceptance-rate', 'Private']                              0.058656\n",
              "['rankingDisplayRank', 'Private']                                                 0.096074\n",
              "dtype: float64"
            ]
          },
          "metadata": {
            "tags": []
          },
          "execution_count": 60
        }
      ]
    },
    {
      "cell_type": "code",
      "metadata": {
        "colab": {
          "base_uri": "https://localhost:8080/"
        },
        "id": "KRCv3RMdHfnH",
        "outputId": "fd97f821-9800-4d1b-e080-9e4783719658"
      },
      "source": [
        "err = pd.Series()\r\n",
        "for features in featureList:\r\n",
        "  err[str(features)] = get_r2_scores(features,\"neg_mean_squared_error\")\r\n",
        "err.sort_values()"
      ],
      "execution_count": null,
      "outputs": [
        {
          "output_type": "stream",
          "text": [
            "/usr/local/lib/python3.7/dist-packages/ipykernel_launcher.py:1: DeprecationWarning: The default dtype for empty Series will be 'object' instead of 'float64' in a future version. Specify a dtype explicitly to silence this warning.\n",
            "  \"\"\"Entry point for launching an IPython kernel.\n"
          ],
          "name": "stderr"
        },
        {
          "output_type": "execute_result",
          "data": {
            "text/plain": [
              "['rankingDisplayRank', 'Grad.Rate', 'acceptance-rate']                           -6.282329e+07\n",
              "['rankingDisplayRank', 'Grad.Rate']                                              -6.184817e+07\n",
              "['rankingDisplayRank', 'Grad.Rate', 'acceptance-rate', 'S.F.Ratio']              -6.008303e+07\n",
              "['Grad.Rate', 'acceptance-rate', 'S.F.Ratio', 'Private']                         -5.993916e+07\n",
              "['rankingDisplayRank', 'Grad.Rate', 'acceptance-rate', 'S.F.Ratio', 'Private']   -3.005077e+07\n",
              "['rankingDisplayRank', 'Grad.Rate', 'Private']                                   -2.702556e+07\n",
              "['rankingDisplayRank', 'acceptance-rate', 'S.F.Ratio', 'Private']                -2.679725e+07\n",
              "['rankingDisplayRank', 'acceptance-rate', 'Private']                             -2.562848e+07\n",
              "['rankingDisplayRank', 'Private']                                                -2.385677e+07\n",
              "dtype: float64"
            ]
          },
          "metadata": {
            "tags": []
          },
          "execution_count": 59
        }
      ]
    },
    {
      "cell_type": "markdown",
      "metadata": {
        "id": "vQ_AgRpS9wBv"
      },
      "source": [
        "### Final Linear regression model"
      ]
    },
    {
      "cell_type": "code",
      "metadata": {
        "colab": {
          "base_uri": "https://localhost:8080/"
        },
        "id": "XtKBEClz99Ho",
        "outputId": "a87ebd56-219f-4e00-8a34-105149884eae"
      },
      "source": [
        "X_train = df_train[[\"rankingDisplayRank\",\"Private\"]]\r\n",
        "X_test = df_test[[\"rankingDisplayRank\",\"Private\"]]\r\n",
        "y_train = df_train[\"tuition\"]\r\n",
        "y_test = df_test[\"tuition\"]\r\n",
        "\r\n",
        "ct = make_column_transformer(\r\n",
        "    (OneHotEncoder(), [\"Private\"]),\r\n",
        "    remainder='passthrough'\r\n",
        ")\r\n",
        "pipeline = make_pipeline(\r\n",
        "    ct,\r\n",
        "    StandardScaler(with_mean=False),\r\n",
        "    LinearRegression()\r\n",
        ")\r\n",
        "\r\n",
        "pipeline.fit(X=X_train,y=y_train)"
      ],
      "execution_count": null,
      "outputs": [
        {
          "output_type": "execute_result",
          "data": {
            "text/plain": [
              "Pipeline(memory=None,\n",
              "         steps=[('columntransformer',\n",
              "                 ColumnTransformer(n_jobs=None, remainder='passthrough',\n",
              "                                   sparse_threshold=0.3,\n",
              "                                   transformer_weights=None,\n",
              "                                   transformers=[('onehotencoder',\n",
              "                                                  OneHotEncoder(categories='auto',\n",
              "                                                                drop=None,\n",
              "                                                                dtype=<class 'numpy.float64'>,\n",
              "                                                                handle_unknown='error',\n",
              "                                                                sparse=True),\n",
              "                                                  ['Private'])],\n",
              "                                   verbose=False)),\n",
              "                ('standardscaler',\n",
              "                 StandardScaler(copy=True, with_mean=False, with_std=True)),\n",
              "                ('linearregression',\n",
              "                 LinearRegression(copy_X=True, fit_intercept=True, n_jobs=None,\n",
              "                                  normalize=False))],\n",
              "         verbose=False)"
            ]
          },
          "metadata": {
            "tags": []
          },
          "execution_count": 118
        }
      ]
    },
    {
      "cell_type": "code",
      "metadata": {
        "colab": {
          "base_uri": "https://localhost:8080/"
        },
        "id": "EEzk3YRs99Hp",
        "outputId": "1ae4675d-f108-4927-877d-c02231781511"
      },
      "source": [
        "y_pred = pipeline.predict(X=X_test)\r\n",
        "r2_score(y_pred, y_test)"
      ],
      "execution_count": null,
      "outputs": [
        {
          "output_type": "execute_result",
          "data": {
            "text/plain": [
              "0.8669987102944017"
            ]
          },
          "metadata": {
            "tags": []
          },
          "execution_count": 119
        }
      ]
    },
    {
      "cell_type": "code",
      "metadata": {
        "colab": {
          "base_uri": "https://localhost:8080/"
        },
        "id": "WQ5zP-KiMQjo",
        "outputId": "61f321e2-a102-4cb0-eacc-6c50c3463658"
      },
      "source": [
        "scores = cross_val_score(pipeline, \r\n",
        "                         X=df_full[[\"rankingDisplayRank\",\"Private\"]],\r\n",
        "                         y=df_full[\"tuition\"],\r\n",
        "                         scoring=\"r2\",\r\n",
        "                         cv=4)\r\n",
        "scores.mean()"
      ],
      "execution_count": null,
      "outputs": [
        {
          "output_type": "execute_result",
          "data": {
            "text/plain": [
              "0.6188448628297247"
            ]
          },
          "metadata": {
            "tags": []
          },
          "execution_count": 123
        }
      ]
    },
    {
      "cell_type": "code",
      "metadata": {
        "id": "wCchN6ZfpuO5",
        "colab": {
          "base_uri": "https://localhost:8080/"
        },
        "outputId": "74e56f48-ab50-49aa-a2b8-a1095f2a97cb"
      },
      "source": [
        "scores = cross_val_score(pipeline, \r\n",
        "                         X=df_full[[\"rankingDisplayRank\",\"Private\"]],\r\n",
        "                         y=df_full[\"tuition\"],\r\n",
        "                         scoring=\"neg_mean_squared_error\",\r\n",
        "                         cv=4)\r\n",
        "np.sqrt(-scores).mean()"
      ],
      "execution_count": null,
      "outputs": [
        {
          "output_type": "execute_result",
          "data": {
            "text/plain": [
              "4650.184608543036"
            ]
          },
          "metadata": {
            "tags": []
          },
          "execution_count": 122
        }
      ]
    },
    {
      "cell_type": "code",
      "metadata": {
        "colab": {
          "base_uri": "https://localhost:8080/"
        },
        "id": "rOxw1KibMarH",
        "outputId": "8db9d87e-85ae-47cf-fc08-4210c29ad332"
      },
      "source": [
        "# Similar to Cal Poly actual is 23,833\r\n",
        "x_new = {'rankingDisplayRank':[\"137\"],'Private':[\"No\"]}\r\n",
        "x_new = pd.DataFrame(data=x_new)\r\n",
        "pipeline.predict(X=x_new)"
      ],
      "execution_count": null,
      "outputs": [
        {
          "output_type": "execute_result",
          "data": {
            "text/plain": [
              "array([26471.12970995])"
            ]
          },
          "metadata": {
            "tags": []
          },
          "execution_count": 129
        }
      ]
    },
    {
      "cell_type": "code",
      "metadata": {
        "colab": {
          "base_uri": "https://localhost:8080/"
        },
        "id": "sPfFLtL_NCU4",
        "outputId": "9f069db7-0336-46d7-adfb-8502430be23d"
      },
      "source": [
        "# Similar to UCLA actual is 44,000\r\n",
        "x_new = {'rankingDisplayRank':[\"20\"],'Private':[\"No\"]}\r\n",
        "x_new = pd.DataFrame(data=x_new)\r\n",
        "pipeline.predict(X=x_new)"
      ],
      "execution_count": null,
      "outputs": [
        {
          "output_type": "execute_result",
          "data": {
            "text/plain": [
              "array([37607.47063691])"
            ]
          },
          "metadata": {
            "tags": []
          },
          "execution_count": 128
        }
      ]
    },
    {
      "cell_type": "code",
      "metadata": {
        "colab": {
          "base_uri": "https://localhost:8080/"
        },
        "id": "idAFXvBCNM7w",
        "outputId": "7e393b37-994e-42c9-f4b2-40f8baf449a8"
      },
      "source": [
        "# Similar to USC actual is 58,000\r\n",
        "x_new = {'rankingDisplayRank':[\"24\"],'Private':[\"Yes\"]}\r\n",
        "x_new = pd.DataFrame(data=x_new)\r\n",
        "pipeline.predict(X=x_new)"
      ],
      "execution_count": null,
      "outputs": [
        {
          "output_type": "execute_result",
          "data": {
            "text/plain": [
              "array([51599.54635456])"
            ]
          },
          "metadata": {
            "tags": []
          },
          "execution_count": 130
        }
      ]
    },
    {
      "cell_type": "markdown",
      "metadata": {
        "id": "0N4BFoI-XeHK"
      },
      "source": [
        "## K means classifier"
      ]
    },
    {
      "cell_type": "markdown",
      "metadata": {
        "id": "UNqTuXMzNFG1"
      },
      "source": [
        "Find the best features for r2 score\r\n"
      ]
    },
    {
      "cell_type": "code",
      "metadata": {
        "colab": {
          "base_uri": "https://localhost:8080/"
        },
        "id": "WV1LHysx2ZhJ",
        "outputId": "86752528-c45f-43cd-88b4-914b8de86a74"
      },
      "source": [
        "def get_r2_scores(features,scoring):\r\n",
        "  # define pipeline\r\n",
        "  if \"Private\" in features:\r\n",
        "    ct = make_column_transformer(\r\n",
        "    (OneHotEncoder(), [\"Private\"]),\r\n",
        "    remainder='passthrough')\r\n",
        "    pipeline = make_pipeline(\r\n",
        "      ct,\r\n",
        "      StandardScaler(with_mean=False),\r\n",
        "      LinearRegression())\r\n",
        "  else:\r\n",
        "    pipeline = make_pipeline(\r\n",
        "        StandardScaler(with_mean=False),\r\n",
        "        LinearRegression()\r\n",
        "    )\r\n",
        "  # calculate highest r2 from cross-validation\r\n",
        "  r2_score = cross_val_score(pipeline, X=df_train[features], \r\n",
        "                             y=y_train,\r\n",
        "                             scoring=scoring, cv=10)\r\n",
        "  # calculate average of the r2 errors\r\n",
        "  return r2_score.mean()\r\n",
        "\r\n",
        "# calculate and store errors for different feature sets\r\n",
        "scores = pd.Series()\r\n",
        "featureList = [[\"rankingDisplayRank\",\"Grad.Rate\"],\r\n",
        "                 [\"rankingDisplayRank\",\"Private\"],\r\n",
        "                 [\"rankingDisplayRank\",\"Grad.Rate\",\"acceptance-rate\"],\r\n",
        "                 [\"rankingDisplayRank\",\"acceptance-rate\",\"Private\"],\r\n",
        "                 [\"rankingDisplayRank\",\"Grad.Rate\",\"Private\"],\r\n",
        "                 [\"rankingDisplayRank\",\"Grad.Rate\",\"acceptance-rate\",\"S.F.Ratio\"],\r\n",
        "                 [\"rankingDisplayRank\",\"acceptance-rate\",\"S.F.Ratio\",\"Private\"],\r\n",
        "                 [\"Grad.Rate\",\"acceptance-rate\",\"S.F.Ratio\",\"Private\"],\r\n",
        "                 [\"rankingDisplayRank\",\"Grad.Rate\",\"acceptance-rate\",\"S.F.Ratio\",\"Private\"]]\r\n",
        "for features in featureList:\r\n",
        "  scores[str(features)] = get_r2_scores(features,\"r2\")\r\n",
        "\r\n",
        "scores.sort_values()\r\n",
        "\r\n",
        "scores = cross_val_score(pipeline, \r\n",
        "                         X=df_full[[\"rankingDisplayRank\",\"Grad.Rate\",\"S.F.Ratio\",\"Private\"]],\r\n",
        "                         y=df_full[\"tuition\"],\r\n",
        "                         scoring=\"neg_mean_squared_error\",\r\n",
        "                         cv=4)\r\n",
        "np.sqrt(-scores).mean()\r\n"
      ],
      "execution_count": null,
      "outputs": [
        {
          "output_type": "stream",
          "text": [
            "/usr/local/lib/python3.7/dist-packages/ipykernel_launcher.py:25: DeprecationWarning: The default dtype for empty Series will be 'object' instead of 'float64' in a future version. Specify a dtype explicitly to silence this warning.\n"
          ],
          "name": "stderr"
        },
        {
          "output_type": "execute_result",
          "data": {
            "text/plain": [
              "['rankingDisplayRank', 'Grad.Rate']                                              -1.093353\n",
              "['Grad.Rate', 'acceptance-rate', 'S.F.Ratio', 'Private']                         -1.021336\n",
              "['rankingDisplayRank', 'Grad.Rate', 'acceptance-rate']                           -0.820983\n",
              "['rankingDisplayRank', 'Grad.Rate', 'acceptance-rate', 'S.F.Ratio']              -0.652754\n",
              "['rankingDisplayRank', 'Grad.Rate', 'acceptance-rate', 'S.F.Ratio', 'Private']   -0.191560\n",
              "['rankingDisplayRank', 'acceptance-rate', 'S.F.Ratio', 'Private']                -0.161642\n",
              "['rankingDisplayRank', 'Grad.Rate', 'Private']                                   -0.096871\n",
              "['rankingDisplayRank', 'Private']                                                -0.082690\n",
              "['rankingDisplayRank', 'acceptance-rate', 'Private']                             -0.071471\n",
              "dtype: float64"
            ]
          },
          "metadata": {
            "tags": []
          },
          "execution_count": 46
        }
      ]
    },
    {
      "cell_type": "markdown",
      "metadata": {
        "id": "LrIN-OJJNI6q"
      },
      "source": [
        "Find the best K value \r\n"
      ]
    },
    {
      "cell_type": "code",
      "metadata": {
        "colab": {
          "base_uri": "https://localhost:8080/"
        },
        "id": "lw4fzXgIX_JG",
        "outputId": "83de7ed2-baad-43df-80c8-b0296d80f7d9"
      },
      "source": [
        "X_train = df_train[['rankingDisplayRank', 'acceptance-rate', 'Private']  ]\r\n",
        "X_test = df_test[['rankingDisplayRank', 'acceptance-rate', 'Private']  ]\r\n",
        "y_train = df_train[\"tuition\"]\r\n",
        "y_test = df_test[\"tuition\"]\r\n",
        "\r\n",
        "ct = make_column_transformer(\r\n",
        "    (OneHotEncoder(), [\"Private\"]),\r\n",
        "    remainder='passthrough'\r\n",
        ")\r\n",
        "pipeline = make_pipeline(\r\n",
        "    ct,\r\n",
        "    StandardScaler(),\r\n",
        "    KNeighborsRegressor(n_neighbors=3)\r\n",
        ")\r\n",
        "\r\n",
        "grid_search = GridSearchCV(pipeline,\r\n",
        "                           param_grid={\r\n",
        "                               \"kneighborsregressor__n_neighbors\": range(1, 20)\r\n",
        "                           },\r\n",
        "                           scoring=\"r2\",\r\n",
        "                           cv=10)\r\n",
        "\r\n",
        "grid_search.fit(X_train, y_train)\r\n",
        "grid_search.best_estimator_\r\n"
      ],
      "execution_count": null,
      "outputs": [
        {
          "output_type": "execute_result",
          "data": {
            "text/plain": [
              "Pipeline(memory=None,\n",
              "         steps=[('columntransformer',\n",
              "                 ColumnTransformer(n_jobs=None, remainder='passthrough',\n",
              "                                   sparse_threshold=0.3,\n",
              "                                   transformer_weights=None,\n",
              "                                   transformers=[('onehotencoder',\n",
              "                                                  OneHotEncoder(categories='auto',\n",
              "                                                                drop=None,\n",
              "                                                                dtype=<class 'numpy.float64'>,\n",
              "                                                                handle_unknown='error',\n",
              "                                                                sparse=True),\n",
              "                                                  ['Private'])],\n",
              "                                   verbose=False)),\n",
              "                ('standardscaler',\n",
              "                 StandardScaler(copy=True, with_mean=True, with_std=True)),\n",
              "                ('kneighborsregressor',\n",
              "                 KNeighborsRegressor(algorithm='auto', leaf_size=30,\n",
              "                                     metric='minkowski', metric_params=None,\n",
              "                                     n_jobs=None, n_neighbors=4, p=2,\n",
              "                                     weights='uniform'))],\n",
              "         verbose=False)"
            ]
          },
          "metadata": {
            "tags": []
          },
          "execution_count": 47
        }
      ]
    },
    {
      "cell_type": "code",
      "metadata": {
        "colab": {
          "base_uri": "https://localhost:8080/"
        },
        "id": "7ch0DbUwX_JJ",
        "outputId": "0117c33c-be81-441b-93c4-f64d8fdbc580"
      },
      "source": [
        "pipeline.fit(X=X_train,y=y_train)\r\n",
        "y_pred = pipeline.predict(X=X_test)\r\n",
        "r2_score(y_pred, y_test)"
      ],
      "execution_count": null,
      "outputs": [
        {
          "output_type": "execute_result",
          "data": {
            "text/plain": [
              "0.8564727279289263"
            ]
          },
          "metadata": {
            "tags": []
          },
          "execution_count": 48
        }
      ]
    }
  ]
}